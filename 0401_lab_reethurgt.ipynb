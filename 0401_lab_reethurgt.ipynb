{
 "cells": [
  {
   "cell_type": "markdown",
   "id": "0f00e010-633c-4684-acd1-08e7b58946f7",
   "metadata": {},
   "source": [
    "1. From your implementation of 0102_lab, check distinct values of   \n",
    " ['Sex', 'Home_State', 'Home_Town', 'Mother_Tongue', 'Elective', 'Clubs']    \n",
    "2. Print the min, max, and mean heights of boys and girls for the whole class and also by section.  \n",
    "3. Print name, USN, section, home_state and mother_tongue of students from Karnataka with mother_tongue other than Kannada.  \n",
    "4. Get count of students for each elective by section (A, B, C), ORDERED BY the count.  \n",
    "\n",
    "key words: WHERE, DISTINCT, GROUP BY, ORDER BY, SUM, MIN, MAX"
   ]
  }
 ],
 "metadata": {
  "kernelspec": {
   "display_name": "Python 3 (ipykernel)",
   "language": "python",
   "name": "python3"
  },
  "language_info": {
   "codemirror_mode": {
    "name": "ipython",
    "version": 3
   },
   "file_extension": ".py",
   "mimetype": "text/x-python",
   "name": "python",
   "nbconvert_exporter": "python",
   "pygments_lexer": "ipython3",
   "version": "3.11.4"
  }
 },
 "nbformat": 4,
 "nbformat_minor": 5
}
