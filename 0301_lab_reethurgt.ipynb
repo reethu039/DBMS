{
 "cells": [
  {
   "cell_type": "markdown",
   "id": "af5984a2-77df-4e5e-89ce-444c77883809",
   "metadata": {},
   "source": [
    "#### 0301_Lab     \n",
    "Write a Python script using which  \n",
    "1. Create a database named `0301_Students.sqlite` in your folders.    \n",
    "2. CREATE a table named `Students` in the database   \n",
    "    students(name TEXT, USN TEXT, email TEXT, primary key(USN) )   \n",
    "3. Insert four records in the table.      \n",
    "4. Commit the changes.  \n",
    "5. Test by reading the rows. "
   ]
  },
  {
   "cell_type": "code",
   "execution_count": 5,
   "id": "be7cd208-a5fd-400d-b639-381cba9832b6",
   "metadata": {},
   "outputs": [],
   "source": [
    "import pandas as pd\n",
    "import os\n",
    "import sqlite3 as lite\n",
    "from glob import glob\n",
    "\n",
    "dbpath = '0301_Students.sqlite'\n",
    "con = lite.connect(dbpath)"
   ]
  },
  {
   "cell_type": "code",
   "execution_count": 6,
   "id": "5f7d5397",
   "metadata": {},
   "outputs": [
    {
     "data": {
      "text/plain": [
       "<sqlite3.Cursor at 0x120fc5340>"
      ]
     },
     "execution_count": 6,
     "metadata": {},
     "output_type": "execute_result"
    }
   ],
   "source": [
    "con.execute(\"CREATE TABLE Students( name TEXT, USN TEXT, email TEXT, PRIMARY KEY (USN))\")"
   ]
  },
  {
   "cell_type": "code",
   "execution_count": 7,
   "id": "948eb247",
   "metadata": {},
   "outputs": [
    {
     "data": {
      "text/plain": [
       "[('Reethu RG Thota', '1RVU22CSE128', 'reethurgt.btech22@rvu.edu.in')]"
      ]
     },
     "execution_count": 7,
     "metadata": {},
     "output_type": "execute_result"
    }
   ],
   "source": [
    "con.execute(\"INSERT INTO Students VALUES('Reethu RG Thota', '1RVU22CSE128', 'reethurgt.btech22@rvu.edu.in')\")\n",
    "con.execute(\"SELECT * from Students\").fetchall()"
   ]
  },
  {
   "cell_type": "code",
   "execution_count": 8,
   "id": "25140fe8",
   "metadata": {},
   "outputs": [
    {
     "data": {
      "text/plain": [
       "[('Reethu RG Thota', '1RVU22CSE128', 'reethurgt.btech22@rvu.edu.in'),\n",
       " ('Shreyas Rajiv', '1RVU22CSE153', 'shreyasr.btech22@rvu.edu.in'),\n",
       " ('Avanthi Narasingu', '1RVU22CSE039', 'avanthi.btech22@rvu.edu.in'),\n",
       " ('Sruthika Sivakumar', '1RVU22CSE140', 'sruthikas.btech22@rvu.edu.in')]"
      ]
     },
     "execution_count": 8,
     "metadata": {},
     "output_type": "execute_result"
    }
   ],
   "source": [
    "records_to_insert = [('Shreyas Rajiv', '1RVU22CSE153', 'shreyasr.btech22@rvu.edu.in'),\n",
    "                     ('Avanthi Narasingu', '1RVU22CSE039', 'avanthi.btech22@rvu.edu.in'),\n",
    "                     ('Sruthika Sivakumar', '1RVU22CSE140', 'sruthikas.btech22@rvu.edu.in')]\n",
    "\n",
    "query = \"\"\" INSERT INTO Students VALUES(?, ?, ?) \"\"\"\n",
    "\n",
    "con.executemany(query, records_to_insert)\n",
    "con.execute(\"SELECT * from Students\").fetchall()"
   ]
  },
  {
   "cell_type": "code",
   "execution_count": 9,
   "id": "9f7e16f2",
   "metadata": {},
   "outputs": [
    {
     "data": {
      "text/plain": [
       "[('Reethu RG Thota', '1RVU22CSE128', 'reethurgt.btech22@rvu.edu.in'),\n",
       " ('Shreyas Rajiv', '1RVU22CSE153', 'shreyasr.btech22@rvu.edu.in'),\n",
       " ('Avanthi Narasingu', '1RVU22CSE039', 'avanthi.btech22@rvu.edu.in'),\n",
       " ('Sruthika Sivakumar', '1RVU22CSE140', 'sruthikas.btech22@rvu.edu.in')]"
      ]
     },
     "execution_count": 9,
     "metadata": {},
     "output_type": "execute_result"
    }
   ],
   "source": [
    "con.commit()\n",
    "con.execute(\"SELECT * from Students\").fetchall()"
   ]
  },
  {
   "cell_type": "markdown",
   "id": "48650604-5ca0-4248-af17-aa46c483c29e",
   "metadata": {},
   "source": [
    "6. Update the table replacing the RVU email ID with your private email ID.  \n",
    "7. Read and display all the data from sqlite_master  \n",
    "8. Read and display table_info using PRAGMA"
   ]
  },
  {
   "cell_type": "code",
   "execution_count": null,
   "id": "b3136494-08d0-440c-bb67-9d417df961a5",
   "metadata": {},
   "outputs": [],
   "source": []
  },
  {
   "cell_type": "markdown",
   "id": "edf1c5aa-1fe3-4762-8cb3-5fa5e207409b",
   "metadata": {},
   "source": [
    "9. For the tables below, create ERD diagram, export it as `0301_ERD.svg` and save in your folder.\n",
    "\n",
    "```\n",
    "CREATE TABLE Scores(\n",
    "               FUSN Text,\n",
    "               course_ID Integer, \n",
    "               FOREIGN KEY(FUSN) REFERENCES Student(FUSN), \n",
    "               FOREIGN KEY(course_ID) REFERENCES Course(course_ID), \n",
    "               Score Int, \n",
    "               Primary Key(FUSN, course_ID) \n",
    "              );\n",
    "```\n",
    "\n"
   ]
  }
 ],
 "metadata": {
  "kernelspec": {
   "display_name": "Python 3 (ipykernel)",
   "language": "python",
   "name": "python3"
  },
  "language_info": {
   "codemirror_mode": {
    "name": "ipython",
    "version": 3
   },
   "file_extension": ".py",
   "mimetype": "text/x-python",
   "name": "python",
   "nbconvert_exporter": "python",
   "pygments_lexer": "ipython3",
   "version": "3.11.3"
  }
 },
 "nbformat": 4,
 "nbformat_minor": 5
}
