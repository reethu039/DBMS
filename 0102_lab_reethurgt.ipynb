{
 "cells": [
  {
   "cell_type": "markdown",
   "id": "e710d692-b92d-4570-b2cf-bada7f3c5fdd",
   "metadata": {},
   "source": [
    "1. In your folder, create a database named \"BTech22.sqlite\"   \n",
    "2. Create a table named \"Students\" using the columns in the shared spreadsheet  \"BTech22Data.xlsx\"    "
   ]
  },
  {
   "cell_type": "code",
   "execution_count": 8,
   "id": "3a21c8f5-20e5-4a67-baa4-ae93f17d60f8",
   "metadata": {},
   "outputs": [],
   "source": [
    "import pandas as pd\n",
    "import os\n",
    "import sqlite3 as lite\n",
    "from glob import glob\n",
    "\n",
    "dbpath = 'BTech22.sqlite'\n",
    "con = lite.connect(dbpath)"
   ]
  },
  {
   "cell_type": "code",
   "execution_count": 9,
   "id": "45733ca5",
   "metadata": {},
   "outputs": [
    {
     "data": {
      "text/html": [
       "<div>\n",
       "<style scoped>\n",
       "    .dataframe tbody tr th:only-of-type {\n",
       "        vertical-align: middle;\n",
       "    }\n",
       "\n",
       "    .dataframe tbody tr th {\n",
       "        vertical-align: top;\n",
       "    }\n",
       "\n",
       "    .dataframe thead th {\n",
       "        text-align: right;\n",
       "    }\n",
       "</style>\n",
       "<table border=\"1\" class=\"dataframe\">\n",
       "  <thead>\n",
       "    <tr style=\"text-align: right;\">\n",
       "      <th></th>\n",
       "      <th>USN</th>\n",
       "      <th>Name</th>\n",
       "      <th>Email</th>\n",
       "      <th>Section</th>\n",
       "      <th>Sex</th>\n",
       "      <th>DoB</th>\n",
       "      <th>Height_cm</th>\n",
       "      <th>Weight_Kg</th>\n",
       "      <th>Home_State</th>\n",
       "      <th>Home_Town</th>\n",
       "      <th>Mother_Tongue</th>\n",
       "      <th>Elective</th>\n",
       "      <th>Clubs</th>\n",
       "    </tr>\n",
       "  </thead>\n",
       "  <tbody>\n",
       "    <tr>\n",
       "      <th>0</th>\n",
       "      <td>1RVU22CSE001</td>\n",
       "      <td>SHREE VYSHNAVI A</td>\n",
       "      <td>shreevyshnavia</td>\n",
       "      <td>B</td>\n",
       "      <td>Female</td>\n",
       "      <td>14/04/2005</td>\n",
       "      <td>158</td>\n",
       "      <td>56</td>\n",
       "      <td>Karnataka</td>\n",
       "      <td>Mysore</td>\n",
       "      <td>Telugu</td>\n",
       "      <td>Photography</td>\n",
       "      <td>Generative AI</td>\n",
       "    </tr>\n",
       "    <tr>\n",
       "      <th>1</th>\n",
       "      <td>1RVU22CSE002</td>\n",
       "      <td>AARON ARTHUR ELISHA</td>\n",
       "      <td>aarone</td>\n",
       "      <td>A</td>\n",
       "      <td>Male</td>\n",
       "      <td>2003-04-02 00:00:00</td>\n",
       "      <td>183</td>\n",
       "      <td>76</td>\n",
       "      <td>NaN</td>\n",
       "      <td>NaN</td>\n",
       "      <td>English</td>\n",
       "      <td>Community service</td>\n",
       "      <td>NaN</td>\n",
       "    </tr>\n",
       "    <tr>\n",
       "      <th>2</th>\n",
       "      <td>1RVU22CSE003</td>\n",
       "      <td>ABHISHEK</td>\n",
       "      <td>abhishek</td>\n",
       "      <td>A</td>\n",
       "      <td>Male</td>\n",
       "      <td>2003-08-05 00:00:00</td>\n",
       "      <td>181</td>\n",
       "      <td>56</td>\n",
       "      <td>Karnataka</td>\n",
       "      <td>Bidar</td>\n",
       "      <td>Marathi</td>\n",
       "      <td>Photography</td>\n",
       "      <td>NaN</td>\n",
       "    </tr>\n",
       "    <tr>\n",
       "      <th>3</th>\n",
       "      <td>1RVU22CSE004</td>\n",
       "      <td>ABRAR HUSSAIN</td>\n",
       "      <td>abrarh</td>\n",
       "      <td>B</td>\n",
       "      <td>Male</td>\n",
       "      <td>21/11/2003</td>\n",
       "      <td>182</td>\n",
       "      <td>69</td>\n",
       "      <td>Jammu</td>\n",
       "      <td>Bathindi</td>\n",
       "      <td>Urdu</td>\n",
       "      <td>Drumming</td>\n",
       "      <td>E-Cell</td>\n",
       "    </tr>\n",
       "    <tr>\n",
       "      <th>4</th>\n",
       "      <td>1RVU22CSE005</td>\n",
       "      <td>ADITI A</td>\n",
       "      <td>aditia</td>\n",
       "      <td>B</td>\n",
       "      <td>Female</td>\n",
       "      <td>13-3-2004</td>\n",
       "      <td>157</td>\n",
       "      <td>NaN</td>\n",
       "      <td>Karnataka</td>\n",
       "      <td>Ballari</td>\n",
       "      <td>Kannada</td>\n",
       "      <td>Photography</td>\n",
       "      <td>Generative AI, Expressions, Kalakriti</td>\n",
       "    </tr>\n",
       "    <tr>\n",
       "      <th>...</th>\n",
       "      <td>...</td>\n",
       "      <td>...</td>\n",
       "      <td>...</td>\n",
       "      <td>...</td>\n",
       "      <td>...</td>\n",
       "      <td>...</td>\n",
       "      <td>...</td>\n",
       "      <td>...</td>\n",
       "      <td>...</td>\n",
       "      <td>...</td>\n",
       "      <td>...</td>\n",
       "      <td>...</td>\n",
       "      <td>...</td>\n",
       "    </tr>\n",
       "    <tr>\n",
       "      <th>187</th>\n",
       "      <td>1RVU22CSE189</td>\n",
       "      <td>VIBHU POTTEKULA</td>\n",
       "      <td>vibhup</td>\n",
       "      <td>C</td>\n",
       "      <td>Male</td>\n",
       "      <td>18/03/04</td>\n",
       "      <td>172</td>\n",
       "      <td>56</td>\n",
       "      <td>Karnataka</td>\n",
       "      <td>Bengaluru</td>\n",
       "      <td>Kannada</td>\n",
       "      <td>Photography</td>\n",
       "      <td>Viksha</td>\n",
       "    </tr>\n",
       "    <tr>\n",
       "      <th>188</th>\n",
       "      <td>1RVU22CSE190</td>\n",
       "      <td>VIJAY SHARMITH</td>\n",
       "      <td>vijays</td>\n",
       "      <td>B</td>\n",
       "      <td>Male</td>\n",
       "      <td>2004-05-04 00:00:00</td>\n",
       "      <td>176</td>\n",
       "      <td>55</td>\n",
       "      <td>Karnataka</td>\n",
       "      <td>Bengaluru</td>\n",
       "      <td>Tamil</td>\n",
       "      <td>Success, Happiness and Leadership</td>\n",
       "      <td>Cybersecurity, Neural Nexus club</td>\n",
       "    </tr>\n",
       "    <tr>\n",
       "      <th>189</th>\n",
       "      <td>1RVU22CSE191</td>\n",
       "      <td>VIKASH KASHYAP</td>\n",
       "      <td>vikashk</td>\n",
       "      <td>A</td>\n",
       "      <td>Male</td>\n",
       "      <td>13/05/2003</td>\n",
       "      <td>178</td>\n",
       "      <td>85</td>\n",
       "      <td>Karnataka</td>\n",
       "      <td>Banglore</td>\n",
       "      <td>Kannada</td>\n",
       "      <td>Drumming</td>\n",
       "      <td>NaN</td>\n",
       "    </tr>\n",
       "    <tr>\n",
       "      <th>190</th>\n",
       "      <td>1RVU22CSE192</td>\n",
       "      <td>VISMITHA PRIYANKA</td>\n",
       "      <td>vismithap</td>\n",
       "      <td>A</td>\n",
       "      <td>Female</td>\n",
       "      <td>25/06/2004</td>\n",
       "      <td>160</td>\n",
       "      <td>54</td>\n",
       "      <td>Karnataka</td>\n",
       "      <td>Bangalore</td>\n",
       "      <td>kannada</td>\n",
       "      <td>Drumming</td>\n",
       "      <td>cybersecurity, Neural Nexus ,Viksha</td>\n",
       "    </tr>\n",
       "    <tr>\n",
       "      <th>191</th>\n",
       "      <td>1RVU22CSE193</td>\n",
       "      <td>YASHWANTH BU</td>\n",
       "      <td>yashwanthbu</td>\n",
       "      <td>A</td>\n",
       "      <td>Male</td>\n",
       "      <td>28/07/2004</td>\n",
       "      <td>179</td>\n",
       "      <td>80</td>\n",
       "      <td>Karnataka</td>\n",
       "      <td>Bangalore</td>\n",
       "      <td>Kannada</td>\n",
       "      <td>Photography</td>\n",
       "      <td>carvaccess(rvce)</td>\n",
       "    </tr>\n",
       "  </tbody>\n",
       "</table>\n",
       "<p>192 rows × 13 columns</p>\n",
       "</div>"
      ],
      "text/plain": [
       "              USN                 Name           Email Section     Sex  \\\n",
       "0    1RVU22CSE001     SHREE VYSHNAVI A  shreevyshnavia       B  Female   \n",
       "1    1RVU22CSE002  AARON ARTHUR ELISHA          aarone       A    Male   \n",
       "2    1RVU22CSE003             ABHISHEK        abhishek       A    Male   \n",
       "3    1RVU22CSE004        ABRAR HUSSAIN          abrarh       B    Male   \n",
       "4    1RVU22CSE005              ADITI A          aditia       B  Female   \n",
       "..            ...                  ...             ...     ...     ...   \n",
       "187  1RVU22CSE189      VIBHU POTTEKULA          vibhup       C    Male   \n",
       "188  1RVU22CSE190       VIJAY SHARMITH          vijays       B    Male   \n",
       "189  1RVU22CSE191       VIKASH KASHYAP         vikashk       A    Male   \n",
       "190  1RVU22CSE192    VISMITHA PRIYANKA       vismithap       A  Female   \n",
       "191  1RVU22CSE193         YASHWANTH BU     yashwanthbu       A    Male   \n",
       "\n",
       "                     DoB Height_cm Weight_Kg  Home_State   Home_Town  \\\n",
       "0             14/04/2005       158        56  Karnataka      Mysore    \n",
       "1    2003-04-02 00:00:00       183        76         NaN         NaN   \n",
       "2    2003-08-05 00:00:00       181        56   Karnataka       Bidar   \n",
       "3             21/11/2003       182        69       Jammu    Bathindi   \n",
       "4              13-3-2004       157       NaN   Karnataka     Ballari   \n",
       "..                   ...       ...       ...         ...         ...   \n",
       "187             18/03/04       172        56   Karnataka   Bengaluru   \n",
       "188  2004-05-04 00:00:00       176        55   Karnataka   Bengaluru   \n",
       "189           13/05/2003       178        85   Karnataka    Banglore   \n",
       "190           25/06/2004       160        54  Karnataka   Bangalore    \n",
       "191           28/07/2004       179        80   Karnataka   Bangalore   \n",
       "\n",
       "    Mother_Tongue                           Elective  \\\n",
       "0          Telugu                       Photography    \n",
       "1        English                  Community service    \n",
       "2         Marathi                        Photography   \n",
       "3            Urdu                           Drumming   \n",
       "4         Kannada                        Photography   \n",
       "..            ...                                ...   \n",
       "187       Kannada                        Photography   \n",
       "188         Tamil  Success, Happiness and Leadership   \n",
       "189       Kannada                           Drumming   \n",
       "190      kannada                           Drumming    \n",
       "191       Kannada                        Photography   \n",
       "\n",
       "                                     Clubs  \n",
       "0                           Generative AI   \n",
       "1                                      NaN  \n",
       "2                                      NaN  \n",
       "3                                   E-Cell  \n",
       "4    Generative AI, Expressions, Kalakriti  \n",
       "..                                     ...  \n",
       "187                                 Viksha  \n",
       "188      Cybersecurity, Neural Nexus club   \n",
       "189                                    NaN  \n",
       "190    cybersecurity, Neural Nexus ,Viksha  \n",
       "191                       carvaccess(rvce)  \n",
       "\n",
       "[192 rows x 13 columns]"
      ]
     },
     "execution_count": 9,
     "metadata": {},
     "output_type": "execute_result"
    }
   ],
   "source": [
    "df=pd.read_excel(\"/Users/reethu/coding/college/DBMS/Data/BTech22 Data.xlsx\")\n",
    "df"
   ]
  },
  {
   "cell_type": "code",
   "execution_count": 3,
   "id": "f41428c7",
   "metadata": {},
   "outputs": [
    {
     "data": {
      "text/plain": [
       "<sqlite3.Cursor at 0x1507542c0>"
      ]
     },
     "execution_count": 3,
     "metadata": {},
     "output_type": "execute_result"
    }
   ],
   "source": [
    "con.execute(\"CREATE TABLE Students(USN, Name, Email, Section, Sex, DoB, Height_cm, Weight_Kg, Home_State, Home_Town, Mother_Tongue, Elective, Clubs, PRIMARY KEY (USN))\")"
   ]
  },
  {
   "cell_type": "markdown",
   "id": "52c4a575-23a9-4a63-9eff-e21a76ccf0fb",
   "metadata": {},
   "source": [
    "3. Insert data into \"Students\" table.  \n",
    "    If you are inserting values direct from a dataframe, set index=False.   \n",
    "    Else, create a 2D list of values and use con.executemany(sql, data)    "
   ]
  },
  {
   "cell_type": "code",
   "execution_count": 5,
   "id": "43294a43",
   "metadata": {},
   "outputs": [
    {
     "data": {
      "text/plain": [
       "192"
      ]
     },
     "execution_count": 5,
     "metadata": {},
     "output_type": "execute_result"
    }
   ],
   "source": [
    "df.to_sql('Students', con, index=False, if_exists='append')"
   ]
  },
  {
   "cell_type": "code",
   "execution_count": 2,
   "id": "4614ef44",
   "metadata": {},
   "outputs": [
    {
     "ename": "NameError",
     "evalue": "name 'conn' is not defined",
     "output_type": "error",
     "traceback": [
      "\u001b[0;31m---------------------------------------------------------------------------\u001b[0m",
      "\u001b[0;31mNameError\u001b[0m                                 Traceback (most recent call last)",
      "\u001b[1;32m/Users/reethu/coding/college/DBMS/lab_work/0102_lab_reethurgt.ipynb Cell 7\u001b[0m line \u001b[0;36m1\n\u001b[0;32m----> <a href='vscode-notebook-cell:/Users/reethu/coding/college/DBMS/lab_work/0102_lab_reethurgt.ipynb#W6sZmlsZQ%3D%3D?line=0'>1</a>\u001b[0m conn\u001b[39m.\u001b[39mexecute(\u001b[39m\"\u001b[39m\u001b[39mSELECT * FROM sqlite_master\u001b[39m\u001b[39m\"\u001b[39m)\u001b[39m.\u001b[39mfetchall()\n",
      "\u001b[0;31mNameError\u001b[0m: name 'conn' is not defined"
     ]
    }
   ],
   "source": [
    "con.execute(\"SELECT * from Students\").fetchall()"
   ]
  },
  {
   "cell_type": "markdown",
   "id": "1a7fd61c-978e-4686-8b64-f73576169fec",
   "metadata": {},
   "source": [
    "4. Find the minimum and maximum values of numeric columns   "
   ]
  },
  {
   "cell_type": "code",
   "execution_count": 17,
   "id": "2a6fe27d",
   "metadata": {},
   "outputs": [
    {
     "name": "stdout",
     "output_type": "stream",
     "text": [
      "[('1RVU22CSE001', '1RVU22CSE193')]\n"
     ]
    }
   ],
   "source": [
    "col = 'USN'\n",
    "query1= f\"SELECT MIN({col}), MAX({col}) FROM Students\"\n",
    "print(con.execute(query1).fetchall())"
   ]
  },
  {
   "cell_type": "code",
   "execution_count": 27,
   "id": "5822da41",
   "metadata": {},
   "outputs": [
    {
     "name": "stdout",
     "output_type": "stream",
     "text": [
      "[(7, '-')]\n"
     ]
    }
   ],
   "source": [
    "col = 'Weight_Kg'\n",
    "query2= f\"SELECT MIN({col}), MAX({col}) FROM Students\"\n",
    "print(con.execute(query1).fetchall())"
   ]
  },
  {
   "cell_type": "code",
   "execution_count": 28,
   "id": "4813eae2",
   "metadata": {},
   "outputs": [
    {
     "name": "stdout",
     "output_type": "stream",
     "text": [
      "[(7, '-')]\n"
     ]
    }
   ],
   "source": [
    "col = 'Height_cm'\n",
    "query1= f\"SELECT MIN({col}), MAX({col}) FROM Students\"\n",
    "print(con.execute(query1).fetchall())"
   ]
  },
  {
   "cell_type": "code",
   "execution_count": 29,
   "id": "1d89131a",
   "metadata": {},
   "outputs": [
    {
     "name": "stdout",
     "output_type": "stream",
     "text": [
      "[(7, '-')]\n"
     ]
    }
   ],
   "source": [
    "print(con.execute(\"SELECT MIN(Height_cm), MAX(Height_cm) FROM Students\").fetchall())"
   ]
  },
  {
   "cell_type": "markdown",
   "id": "8ae4d9b7-5735-4f6e-abd1-e02314bb0d17",
   "metadata": {},
   "source": [
    "5. Find candidate Primary Keys    \n",
    "    Count unique values for each column   \n",
    "    What would be the natural Primary Key?  "
   ]
  },
  {
   "cell_type": "code",
   "execution_count": 38,
   "id": "406a3f69-9d90-41e4-ba3b-088c81291cea",
   "metadata": {},
   "outputs": [
    {
     "name": "stdout",
     "output_type": "stream",
     "text": [
      "USN:[(1,)]\n",
      "Name:[(1,)]\n",
      "Email:[(1,)]\n",
      "Section:[(64,)]\n"
     ]
    }
   ],
   "source": [
    "cols =['USN', 'Name', 'Email', 'Section']\n",
    "for col in cols:\n",
    "    query3 = f\"SELECT DISTINCT COUNT(*) FROM Students GROUP BY ({col})\"\n",
    "    print(f\"{col}:{con.execute(query3).fetchall()}\")"
   ]
  },
  {
   "cell_type": "markdown",
   "id": "0d115d1c",
   "metadata": {},
   "source": [
    "Both USN and Name are eligible to be primary keys as they all have distinct values. But, the natural primary key is the USN"
   ]
  },
  {
   "cell_type": "markdown",
   "id": "c70512c3-ccb8-462b-8b9f-30cb31978f52",
   "metadata": {},
   "source": [
    "6. Find distinct values of categorical columns:   ['Sex',  'Home_State', 'Home_Town', 'Mother_Tongue', 'Elective', 'Clubs']\n"
   ]
  },
  {
   "cell_type": "code",
   "execution_count": 51,
   "id": "44241f1e-f863-4f0b-bd2d-4911ba9c1579",
   "metadata": {},
   "outputs": [
    {
     "name": "stdout",
     "output_type": "stream",
     "text": [
      "Sex:\n",
      "[(None, 7), (' Male', 1), ('-', 1), ('FEMALE', 1), ('Female', 56), ('Female ', 9), ('Mail', 1), ('Male', 97), ('Male ', 3), ('female', 3), ('female ', 2), ('male', 11)]\n",
      "\n",
      "Home_State:\n",
      "[(None, 11), ('-', 1), ('Andhra Pradesh', 3), ('Andhra Pradesh ', 4), ('Bihar', 1), ('Delhi', 1), ('Goa', 1), ('Gujarat', 1), ('Haryana', 1), ('Jammu', 1), ('Jharkhand', 1), ('KARNATAKA', 2), ('KARnataka', 1), ('Karantaka', 1), ('Karnataka', 102), ('Karnataka ', 33), ('Nil ', 1), ('Punjab', 1), ('Punjab ', 1), ('Rajasthan', 2), ('Rajasthan ', 1), ('Tamil Nadu', 1), ('Telangana', 3), ('Uttar Pradesh', 2), ('Uttar Pradesh ', 1), ('West Bengal', 1), ('karnataka', 10), ('karnataka ', 2), ('karntaka', 1)]\n",
      "\n",
      "Home_Town:\n",
      "[(None, 11), ('-', 1), ('Abu Road', 1), ('Abu Road ', 1), ('Adoni', 4), ('Ahmedabad', 1), ('Amritsar', 2), ('Ananthapur ', 1), ('BIDAR', 1), ('Ballari', 2), ('Bangalore', 16), ('Bangalore ', 4), ('Banglire', 1), ('Banglore', 4), ('Bathindi', 1), ('Belgaum', 1), ('Belgavi ', 1), ('Bengaluru', 47), ('Bengaluru ', 8), ('Bidadi', 1), ('Bidar', 2), ('Chennai', 1), ('Chickmagalur ', 1), ('Chikkaballapur', 2), ('Chikmagalur', 1), ('Chithradurga', 1), ('Chitradurga', 3), ('Chittoor ', 1), ('Davengere', 1), ('Dharbanga', 1), ('Dharwad', 1), ('Gajendragad', 1), ('Gangavathi', 1), ('Goa', 1), ('Gulbarga ', 1), ('Hassan', 1), ('Haveri', 1), ('Hosapete ', 1), ('Hospet', 1), ('Hubballi', 1), ('Hubballi ', 1), ('Hubli', 1), ('Hyderabad', 3), ('Hyderabad ', 1), ('Jaipur', 1), ('Jamshedpur', 1), ('Kalaburgi', 1), ('Kolkata', 1), ('Lucknow', 2), ('Maahishmati', 1), ('Magadi', 1), ('Mandya', 2), ('Mangalore', 2), ('Mudigere', 1), ('Mysore ', 1), ('Mysuru', 2), ('Nagoor', 1), ('New Delhi', 2), ('Nil', 1), ('Raichur', 2), ('Raichur ', 2), ('SHIVAMOGGA', 1), ('Saharanpur', 1), ('Shivamogga', 1), ('Shivmogga ', 1), ('Tirupati', 1), ('Tumkur', 1), ('Vijayapur', 1), ('Vijayapura', 2), ('Yadgir ', 1), ('Yadgiri', 1), ('bangalore', 1), ('bangaluru', 1), ('banglore', 3), ('banglre', 1), ('bengaluru', 3), ('chikkamagaluru', 1), ('chikmagalur', 1), ('chitradurga', 1), ('kolar', 1), ('mandya', 1), ('shimoga', 1), ('shivamogga ', 1), ('tumkur', 2)]\n",
      "\n",
      "Mother_Tongue:\n",
      "[(None, 10), ('-', 1), ('English ', 1), ('Gujarati', 1), ('Hindi', 19), ('Hindi ', 2), ('Hinglish', 1), ('KANNADA', 1), ('Kannada', 62), ('Kannada ', 14), ('Karnataka', 1), ('Konkani', 3), ('MARATHI', 1), ('Malayalam', 2), ('Marathi', 1), ('Marathi ', 1), ('Punjabi', 1), ('Tamil', 9), ('Telugu', 28), ('Telugu ', 2), ('Tulu', 4), ('Urdu', 2), ('Urdu ', 2), ('hindi', 2), ('kannada', 10), ('kannada ', 4), ('tamil', 1), ('telugu', 3), ('ಕನ್ನಡ', 3)]\n",
      "\n",
      "Elective:\n",
      "[(None, 13), ('-', 1), ('Community Service', 17), ('Community Service ', 4), ('Community service', 6), ('Community service ', 3), ('Contemporary Dance', 4), ('Contemporary ance', 1), ('Contemporary dance', 4), ('Contemporary dance ', 3), ('Drumming', 26), ('Drumming ', 2), ('Hindustani Music ', 1), ('Hindustani Vocals', 1), ('Hindustani vocals ', 1), ('Hindusthani Vocals', 1), ('Indian Knowledge System: Mathematica and Ayurveda', 4), ('Indian Knowledge system Mathematics&Ayurveda', 1), ('Indian Knowledge systems - Ayurveda and Mathematics', 2), ('Kuchipudi', 3), ('Mixed martial arts', 1), ('Null', 1), ('PHOTOGRAPHY', 1), ('Photography', 32), ('Photography ', 7), ('Quantitative Reasoning', 6), ('Quantitative reasoning', 2), ('Quantity Reasoning ', 1), ('Success, Hapiness and Leadership', 2), ('Success, Happiness and Leadership', 3), ('Success, Happiness and Leadership ', 2), ('Success, happiness,leadership and life skills', 2), ('Success, leadership and lifeskill', 1), ('Success,Happiness,Leadership and  life skills', 5), ('Success,Happiness,Leadership and Lifeskills', 1), ('Success,Leadership and Lifeskill', 1), ('community service', 1), ('community servive', 1), ('contemporary dance', 5), ('deciding ', 1), ('drumming', 2), ('kuchipudi ', 1), ('photography', 10), ('photography ', 1), ('quantitative reasoning ', 1), ('success, happiness and leadership', 1), ('success, happiness and leadership and life skills ', 1), ('success,happiness,leadership and life skills', 1)]\n",
      "\n",
      "Clubs:\n",
      "[(None, 67), (' Cybersecurity ', 1), ('-', 1), ('Ameya', 1), ('Ameya, Cyber Security, Callisto, Viksha', 1), ('Astronomy(Callisto), Neural Nexus , Quantum computing , Processor Architecture', 1), ('CYBER SECURITY', 1), ('Callisto', 1), ('Callisto Astronomy Club', 1), ('Callisto, Press Corps,Expression', 1), ('ChipTech, Cyber Security', 1), ('ChipTech, CyberSec, Neural Nexus, Q-Pulse', 1), ('ChipTech, Cybersec, Neural Nexus', 1), ('ChipTech,CyberSec,Neural Nexus', 1), ('ChipTech,CyberSec,Shrigandha', 1), ('ChipTech,CyberSecurity', 1), ('ChipTech,Generative AI', 1), ('Coding club ', 1), ('Cyber Security, Possessor Architecture', 1), ('Cyber security', 1), ('Cyber security, Chiptech, Raag', 1), ('Cybersec,generative AI', 1), ('Cybersecurity', 4), ('Cybersecurity ', 3), ('Cybersecurity , Chiptech', 1), ('Cybersecurity ,Neural Nexus', 1), ('Cybersecurity Club', 1), ('Cybersecurity club', 1), ('Cybersecurity, Coding (Viksha), Astronomy (Callisto)', 1), ('Cybersecurity, Neural Nexus club ', 1), ('Cybersecurity, Srigandha', 1), (\"Debsoc, Neural Nexus, Isekai Adventures, Rowling's Elf, Raag (RVCE)\", 1), ('Debsoc, QPulse, AMEYA', 1), ('Drumming', 1), ('E-Cell', 3), ('E-Cell ', 2), ('E-Cell, ChipTech, Viksha, GDSC', 1), ('E-cell', 1), ('E-cell, ChipTech, Viksha', 1), ('ECELL', 1), ('ECell', 1), ('Generative AI ', 2), ('Generative AI, Cyber Security, Callisto, Quantum Computing, Processor Architecture', 1), ('Generative AI, Expressions, Kalakriti', 1), ('Modelling, Generative AI, Quantum Computing, Happy tails', 1), ('Neual Nexus', 1), ('Neural Nexus', 2), ('Neural Nexus ', 1), ('Neural Nexus(AI/ML club),Viksha, E-Cell, ', 1), ('Neural Nexus, Callisto, Viksha', 1), ('Neural Nexus, Cybersecurity, Generative AI', 1), ('Neural Nexus, Viksha', 3), ('Neural nexus (AI/ML Club) , Processor architecture', 1), ('Neural nexus(AI/ML)', 1), ('Neural nexus(AI/ML), E-Cell', 1), ('Nexus,Cyber security', 1), ('Q-Pulse', 1), ('Raag Regime, Viksha ', 1), ('Rowling elf,Chiptech,', 1), ('Rowlings Elf', 1), ('Shrigandha', 3), ('Shrigandha , Cybersecurity,ChipTech', 1), ('Shrigandha, QPulse', 1), ('Shrignadha', 1), ('Socials', 1), ('Socials ', 1), ('Socials,Ameya,Srigandha', 1), ('Viksha', 7), ('Viksha , Socials , Generative AI', 1), ('Viksha ,Ecell, Socials', 1), ('Viksha(coding club) , Neural Nexus', 1), ('Viksha(coding club), Generative AI, Cybersecurity, Socials', 1), ('Viksha(coding club), Socials', 1), ('Viksha(coding)', 1), ('Viksha, Ameya', 1), ('Viksha, Callisto', 1), ('Viksha, ChipTech, Cyber Security', 1), ('Viksha, Cyber Security', 1), ('Viksha, CyberSecurity', 2), ('Viksha, Cybersecurity', 1), ('Viksha, Generative AI', 1), ('Viksha, Neural Nexus', 1), ('Viksha,ChipTech', 1), ('callisto astronomy club ', 1), ('callisto astronomy club, Neural Nexus, Viksha', 1), ('carvaccess(rvce)', 2), ('coding club', 1), ('cyber security', 1), ('cyber security ', 1), ('cyber security,chip tech,genertive ai', 1), ('cybersecurity', 2), ('cybersecurity, Neural Nexus ,Viksha', 1), ('cybersecurity,Tenacity,Chip Tech', 1), ('cybersecurity,socials,srigandha', 2), ('ecell', 1), ('expression ', 1), ('expressions, Raag, generative AI', 1), ('shrigandha , viksha', 1), ('socials', 1), ('socials, cyber security', 1), ('socials,viksha', 1), ('ಶ್ರೀಗಂಧ, Socials, Ameya, Cybersecurity', 1)]\n",
      "\n"
     ]
    }
   ],
   "source": [
    "cols =['Sex',  'Home_State', 'Home_Town', 'Mother_Tongue', 'Elective', 'Clubs']\n",
    "for col in cols:\n",
    "    print(f\"{col}:\")\n",
    "    query3 = f\"SELECT DISTINCT {col}, Count(*) FROM Students GROUP BY ({col})\"\n",
    "    print(con.execute(query3).fetchall()); print()"
   ]
  },
  {
   "cell_type": "markdown",
   "id": "cab72fe4-0223-4165-b3f6-5419d6b60de8",
   "metadata": {},
   "source": [
    "7. Correct variations and unify  \n",
    "    Correcting the variations in values is easier with Pandas than with SQL.  \n",
    "    You may use Pandas features to make the changes and load the data again.  "
   ]
  },
  {
   "cell_type": "code",
   "execution_count": null,
   "id": "04065206-7c40-4137-8896-5f624be4d39d",
   "metadata": {},
   "outputs": [],
   "source": []
  }
 ],
 "metadata": {
  "kernelspec": {
   "display_name": "Python 3 (ipykernel)",
   "language": "python",
   "name": "python3"
  },
  "language_info": {
   "codemirror_mode": {
    "name": "ipython",
    "version": 3
   },
   "file_extension": ".py",
   "mimetype": "text/x-python",
   "name": "python",
   "nbconvert_exporter": "python",
   "pygments_lexer": "ipython3",
   "version": "3.11.3"
  }
 },
 "nbformat": 4,
 "nbformat_minor": 5
}
