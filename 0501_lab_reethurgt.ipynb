{
 "cells": [
  {
   "cell_type": "markdown",
   "id": "d46dff75-866d-4841-b2e6-f738b9621af0",
   "metadata": {},
   "source": [
    "#### 0501_Lab  \n",
    "1. Cleanse categorical data in the Student table in BTech22_\\<your name\\>.sqlite.   "
   ]
  },
  {
   "cell_type": "code",
   "execution_count": null,
   "id": "875ef5c4-dd1b-4c1b-814b-d641eba4e09b",
   "metadata": {},
   "outputs": [],
   "source": []
  },
  {
   "cell_type": "code",
   "execution_count": null,
   "id": "5df1df48-3d63-435a-8071-362217ab3bc1",
   "metadata": {},
   "outputs": [],
   "source": []
  },
  {
   "cell_type": "markdown",
   "id": "a8070b38-aae3-4973-bbde-93a567b6e670",
   "metadata": {},
   "source": [
    "2. Create look-up tables (aka master tables) for states, towns, and languages.    \n",
    "Insert data.     \n",
    "See [RTO Codes](https://www.v3cars.com/car-guide/state-code-regional-transport-office-rto-india) and \n",
    "Census Codes for [States and Cities](https://censusindia.gov.in/nada/index.php/catalog/42648) and \n",
    "[Language Codes](https://censusindia.gov.in/nada/index.php/catalog/42561)  \n",
    "Use standard codes or abbreviations as PK.  \n",
    "\n"
   ]
  },
  {
   "cell_type": "code",
   "execution_count": null,
   "id": "340d55a9-185e-4c17-b905-92c2ab1e24b8",
   "metadata": {},
   "outputs": [],
   "source": []
  },
  {
   "cell_type": "markdown",
   "id": "48411946-7138-4b9c-b875-d6c3b37335ea",
   "metadata": {},
   "source": [
    "3. Create tables for electives and clubs.  \n",
    "    Their PK may be auto-incremented.  \n",
    "    Insert data.  "
   ]
  },
  {
   "cell_type": "code",
   "execution_count": null,
   "id": "69855fd0-c556-48e0-9bbc-76228eb4d03c",
   "metadata": {},
   "outputs": [],
   "source": []
  }
 ],
 "metadata": {
  "kernelspec": {
   "display_name": "Python 3 (ipykernel)",
   "language": "python",
   "name": "python3"
  },
  "language_info": {
   "codemirror_mode": {
    "name": "ipython",
    "version": 3
   },
   "file_extension": ".py",
   "mimetype": "text/x-python",
   "name": "python",
   "nbconvert_exporter": "python",
   "pygments_lexer": "ipython3",
   "version": "3.11.4"
  }
 },
 "nbformat": 4,
 "nbformat_minor": 5
}
