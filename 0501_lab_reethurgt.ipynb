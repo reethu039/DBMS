{
 "cells": [
  {
   "cell_type": "markdown",
   "id": "d46dff75-866d-4841-b2e6-f738b9621af0",
   "metadata": {},
   "source": [
    "#### 0501_Lab  \n",
    "1. Cleanse categorical data in the Student table in BTech22_\\<your name\\>.sqlite.   "
   ]
  },
  {
   "cell_type": "code",
   "execution_count": 1,
   "id": "875ef5c4-dd1b-4c1b-814b-d641eba4e09b",
   "metadata": {},
   "outputs": [],
   "source": [
    "import pandas as pd\n",
    "import os\n",
    "import sqlite3 as lite\n",
    "from glob import glob\n",
    "\n",
    "dbpath = 'BTech22_reethurgt.sqlite'\n",
    "con = lite.connect(dbpath)"
   ]
  },
  {
   "cell_type": "code",
   "execution_count": 2,
   "id": "5df1df48-3d63-435a-8071-362217ab3bc1",
   "metadata": {},
   "outputs": [],
   "source": [
    "df=pd.read_excel(\"/Users/reethu/coding/college/DBMS/Data/BTech22 Data.xlsx\")"
   ]
  },
  {
   "cell_type": "code",
   "execution_count": 3,
   "id": "9c400e2f",
   "metadata": {},
   "outputs": [
    {
     "data": {
      "text/plain": [
       "192"
      ]
     },
     "execution_count": 3,
     "metadata": {},
     "output_type": "execute_result"
    }
   ],
   "source": [
    "df.to_sql('Students', con, index=False, if_exists='append')"
   ]
  },
  {
   "cell_type": "code",
   "execution_count": 4,
   "id": "aff1deb0",
   "metadata": {},
   "outputs": [
    {
     "data": {
      "text/plain": [
       "[('table',\n",
       "  'Students',\n",
       "  'Students',\n",
       "  2,\n",
       "  'CREATE TABLE \"Students\" (\\n\"USN\" TEXT,\\n  \"Name\" TEXT,\\n  \"Email\" TEXT,\\n  \"Section\" TEXT,\\n  \"Sex\" TEXT,\\n  \"DoB\" TEXT,\\n  \"Height_cm\" TEXT,\\n  \"Weight_Kg\" TEXT,\\n  \"Home_State\" TEXT,\\n  \"Home_Town\" TEXT,\\n  \"Mother_Tongue\" TEXT,\\n  \"Elective\" TEXT,\\n  \"Clubs\" TEXT\\n)')]"
      ]
     },
     "execution_count": 4,
     "metadata": {},
     "output_type": "execute_result"
    }
   ],
   "source": [
    "con.execute(\"SELECT * FROM sqlite_master\").fetchall()"
   ]
  },
  {
   "cell_type": "code",
   "execution_count": 5,
   "id": "3201e7db",
   "metadata": {},
   "outputs": [
    {
     "data": {
      "text/html": [
       "<div>\n",
       "<style scoped>\n",
       "    .dataframe tbody tr th:only-of-type {\n",
       "        vertical-align: middle;\n",
       "    }\n",
       "\n",
       "    .dataframe tbody tr th {\n",
       "        vertical-align: top;\n",
       "    }\n",
       "\n",
       "    .dataframe thead th {\n",
       "        text-align: right;\n",
       "    }\n",
       "</style>\n",
       "<table border=\"1\" class=\"dataframe\">\n",
       "  <thead>\n",
       "    <tr style=\"text-align: right;\">\n",
       "      <th></th>\n",
       "      <th>COUNT(*)</th>\n",
       "    </tr>\n",
       "  </thead>\n",
       "  <tbody>\n",
       "    <tr>\n",
       "      <th>0</th>\n",
       "      <td>192</td>\n",
       "    </tr>\n",
       "  </tbody>\n",
       "</table>\n",
       "</div>"
      ],
      "text/plain": [
       "   COUNT(*)\n",
       "0       192"
      ]
     },
     "execution_count": 5,
     "metadata": {},
     "output_type": "execute_result"
    }
   ],
   "source": [
    "pd.read_sql(\"SELECT COUNT(*) FROM Students\", con)"
   ]
  },
  {
   "cell_type": "code",
   "execution_count": 6,
   "id": "5969d3bf",
   "metadata": {},
   "outputs": [
    {
     "data": {
      "text/html": [
       "<div>\n",
       "<style scoped>\n",
       "    .dataframe tbody tr th:only-of-type {\n",
       "        vertical-align: middle;\n",
       "    }\n",
       "\n",
       "    .dataframe tbody tr th {\n",
       "        vertical-align: top;\n",
       "    }\n",
       "\n",
       "    .dataframe thead th {\n",
       "        text-align: right;\n",
       "    }\n",
       "</style>\n",
       "<table border=\"1\" class=\"dataframe\">\n",
       "  <thead>\n",
       "    <tr style=\"text-align: right;\">\n",
       "      <th></th>\n",
       "      <th>cid</th>\n",
       "      <th>name</th>\n",
       "      <th>type</th>\n",
       "      <th>notnull</th>\n",
       "      <th>dflt_value</th>\n",
       "      <th>pk</th>\n",
       "    </tr>\n",
       "  </thead>\n",
       "  <tbody>\n",
       "    <tr>\n",
       "      <th>0</th>\n",
       "      <td>0</td>\n",
       "      <td>USN</td>\n",
       "      <td>TEXT</td>\n",
       "      <td>0</td>\n",
       "      <td>None</td>\n",
       "      <td>0</td>\n",
       "    </tr>\n",
       "    <tr>\n",
       "      <th>1</th>\n",
       "      <td>1</td>\n",
       "      <td>Name</td>\n",
       "      <td>TEXT</td>\n",
       "      <td>0</td>\n",
       "      <td>None</td>\n",
       "      <td>0</td>\n",
       "    </tr>\n",
       "    <tr>\n",
       "      <th>2</th>\n",
       "      <td>2</td>\n",
       "      <td>Email</td>\n",
       "      <td>TEXT</td>\n",
       "      <td>0</td>\n",
       "      <td>None</td>\n",
       "      <td>0</td>\n",
       "    </tr>\n",
       "    <tr>\n",
       "      <th>3</th>\n",
       "      <td>3</td>\n",
       "      <td>Section</td>\n",
       "      <td>TEXT</td>\n",
       "      <td>0</td>\n",
       "      <td>None</td>\n",
       "      <td>0</td>\n",
       "    </tr>\n",
       "    <tr>\n",
       "      <th>4</th>\n",
       "      <td>4</td>\n",
       "      <td>Sex</td>\n",
       "      <td>TEXT</td>\n",
       "      <td>0</td>\n",
       "      <td>None</td>\n",
       "      <td>0</td>\n",
       "    </tr>\n",
       "    <tr>\n",
       "      <th>5</th>\n",
       "      <td>5</td>\n",
       "      <td>DoB</td>\n",
       "      <td>TEXT</td>\n",
       "      <td>0</td>\n",
       "      <td>None</td>\n",
       "      <td>0</td>\n",
       "    </tr>\n",
       "    <tr>\n",
       "      <th>6</th>\n",
       "      <td>6</td>\n",
       "      <td>Height_cm</td>\n",
       "      <td>TEXT</td>\n",
       "      <td>0</td>\n",
       "      <td>None</td>\n",
       "      <td>0</td>\n",
       "    </tr>\n",
       "    <tr>\n",
       "      <th>7</th>\n",
       "      <td>7</td>\n",
       "      <td>Weight_Kg</td>\n",
       "      <td>TEXT</td>\n",
       "      <td>0</td>\n",
       "      <td>None</td>\n",
       "      <td>0</td>\n",
       "    </tr>\n",
       "    <tr>\n",
       "      <th>8</th>\n",
       "      <td>8</td>\n",
       "      <td>Home_State</td>\n",
       "      <td>TEXT</td>\n",
       "      <td>0</td>\n",
       "      <td>None</td>\n",
       "      <td>0</td>\n",
       "    </tr>\n",
       "    <tr>\n",
       "      <th>9</th>\n",
       "      <td>9</td>\n",
       "      <td>Home_Town</td>\n",
       "      <td>TEXT</td>\n",
       "      <td>0</td>\n",
       "      <td>None</td>\n",
       "      <td>0</td>\n",
       "    </tr>\n",
       "    <tr>\n",
       "      <th>10</th>\n",
       "      <td>10</td>\n",
       "      <td>Mother_Tongue</td>\n",
       "      <td>TEXT</td>\n",
       "      <td>0</td>\n",
       "      <td>None</td>\n",
       "      <td>0</td>\n",
       "    </tr>\n",
       "    <tr>\n",
       "      <th>11</th>\n",
       "      <td>11</td>\n",
       "      <td>Elective</td>\n",
       "      <td>TEXT</td>\n",
       "      <td>0</td>\n",
       "      <td>None</td>\n",
       "      <td>0</td>\n",
       "    </tr>\n",
       "    <tr>\n",
       "      <th>12</th>\n",
       "      <td>12</td>\n",
       "      <td>Clubs</td>\n",
       "      <td>TEXT</td>\n",
       "      <td>0</td>\n",
       "      <td>None</td>\n",
       "      <td>0</td>\n",
       "    </tr>\n",
       "  </tbody>\n",
       "</table>\n",
       "</div>"
      ],
      "text/plain": [
       "    cid           name  type  notnull dflt_value  pk\n",
       "0     0            USN  TEXT        0       None   0\n",
       "1     1           Name  TEXT        0       None   0\n",
       "2     2          Email  TEXT        0       None   0\n",
       "3     3        Section  TEXT        0       None   0\n",
       "4     4            Sex  TEXT        0       None   0\n",
       "5     5            DoB  TEXT        0       None   0\n",
       "6     6      Height_cm  TEXT        0       None   0\n",
       "7     7      Weight_Kg  TEXT        0       None   0\n",
       "8     8     Home_State  TEXT        0       None   0\n",
       "9     9      Home_Town  TEXT        0       None   0\n",
       "10   10  Mother_Tongue  TEXT        0       None   0\n",
       "11   11       Elective  TEXT        0       None   0\n",
       "12   12          Clubs  TEXT        0       None   0"
      ]
     },
     "execution_count": 6,
     "metadata": {},
     "output_type": "execute_result"
    }
   ],
   "source": [
    "pd.read_sql(\"PRAGMA table_info(Students)\", con)"
   ]
  },
  {
   "cell_type": "code",
   "execution_count": 7,
   "id": "205dcca0",
   "metadata": {},
   "outputs": [
    {
     "data": {
      "text/plain": [
       "[('Karnataka ',),\n",
       " (None,),\n",
       " ('Karnataka',),\n",
       " ('Jammu',),\n",
       " ('Haryana',),\n",
       " ('karnataka ',),\n",
       " ('Delhi',),\n",
       " ('karnataka',),\n",
       " ('West Bengal',),\n",
       " ('Andhra Pradesh',),\n",
       " ('Telangana',),\n",
       " ('Punjab',),\n",
       " ('Goa',),\n",
       " ('Uttar Pradesh',),\n",
       " ('Rajasthan ',),\n",
       " ('Tamil Nadu',),\n",
       " ('Bihar',),\n",
       " ('Nil ',),\n",
       " ('Andhra Pradesh ',),\n",
       " ('Uttar Pradesh ',),\n",
       " ('KARNATAKA',),\n",
       " ('karntaka',),\n",
       " ('Gujarat',),\n",
       " ('Jharkhand',),\n",
       " ('-',),\n",
       " ('Rajasthan',),\n",
       " ('KARnataka',),\n",
       " ('Punjab ',),\n",
       " ('Karantaka',)]"
      ]
     },
     "execution_count": 7,
     "metadata": {},
     "output_type": "execute_result"
    }
   ],
   "source": [
    "con.execute(\"SELECT DISTINCT Home_State FROM Students\").fetchall()"
   ]
  },
  {
   "cell_type": "code",
   "execution_count": 8,
   "id": "c627f370",
   "metadata": {},
   "outputs": [],
   "source": [
    "query1 = \"\"\"\n",
    "    UPDATE Students\n",
    "    SET Home_State = TRIM(Home_State)\n",
    "\"\"\"\n",
    "query2 = \"\"\"\n",
    "    UPDATE Students\n",
    "    SET Home_State = 'Karnataka'\n",
    "    WHERE Home_State IN\n",
    "    ('karnataka','KARNATAKA','karntaka','KARnataka','Karantaka')\n",
    "\"\"\"\n",
    "query3 = \"\"\"\n",
    "    UPDATE Students\n",
    "    SET Home_State = 'unknown'\n",
    "    WHERE Home_State IN ('unknown', '-', 'Nil', 'None')\n",
    "\"\"\"\n",
    "query4 = \"\"\"\n",
    "    UPDATE Students\n",
    "    SET Home_State = 'unknown'\n",
    "    WHERE Home_State IS NULL;\n",
    "\"\"\"\n",
    "\n",
    "con.execute(query1)\n",
    "con.execute(query2)\n",
    "con.execute(query3)\n",
    "con.execute(query4)\n",
    "con.commit()\n"
   ]
  },
  {
   "cell_type": "code",
   "execution_count": 9,
   "id": "8cb7b9e4",
   "metadata": {},
   "outputs": [
    {
     "data": {
      "text/plain": [
       "[('Karnataka',),\n",
       " ('unknown',),\n",
       " ('Jammu',),\n",
       " ('Haryana',),\n",
       " ('Delhi',),\n",
       " ('West Bengal',),\n",
       " ('Andhra Pradesh',),\n",
       " ('Telangana',),\n",
       " ('Punjab',),\n",
       " ('Goa',),\n",
       " ('Uttar Pradesh',),\n",
       " ('Rajasthan',),\n",
       " ('Tamil Nadu',),\n",
       " ('Bihar',),\n",
       " ('Gujarat',),\n",
       " ('Jharkhand',)]"
      ]
     },
     "execution_count": 9,
     "metadata": {},
     "output_type": "execute_result"
    }
   ],
   "source": [
    "con.execute(\"SELECT DISTINCT Home_State FROM Students\").fetchall()"
   ]
  },
  {
   "cell_type": "code",
   "execution_count": 10,
   "id": "04c05dc7",
   "metadata": {},
   "outputs": [
    {
     "data": {
      "text/plain": [
       "[('Telugu',),\n",
       " ('English ',),\n",
       " ('Marathi',),\n",
       " ('Urdu',),\n",
       " ('Kannada',),\n",
       " ('Hindi',),\n",
       " (None,),\n",
       " ('kannada',),\n",
       " ('Kannada ',),\n",
       " ('Hinglish',),\n",
       " ('Marathi ',),\n",
       " ('Konkani',),\n",
       " ('Tamil',),\n",
       " ('Malayalam',),\n",
       " ('Hindi ',),\n",
       " ('kannada ',),\n",
       " ('tamil',),\n",
       " ('Tulu',),\n",
       " ('Karnataka',),\n",
       " ('MARATHI',),\n",
       " ('hindi',),\n",
       " ('telugu',),\n",
       " ('Gujarati',),\n",
       " ('Telugu ',),\n",
       " ('-',),\n",
       " ('KANNADA',),\n",
       " ('Punjabi',),\n",
       " ('Urdu ',),\n",
       " ('ಕನ್ನಡ',)]"
      ]
     },
     "execution_count": 10,
     "metadata": {},
     "output_type": "execute_result"
    }
   ],
   "source": [
    "con.execute(\"SELECT DISTINCT Mother_Tongue FROM Students\").fetchall()"
   ]
  },
  {
   "cell_type": "code",
   "execution_count": 11,
   "id": "d5fb8b48",
   "metadata": {},
   "outputs": [
    {
     "data": {
      "text/plain": [
       "[('Telugu',),\n",
       " ('English',),\n",
       " ('Marathi',),\n",
       " ('Urdu',),\n",
       " ('Kannada',),\n",
       " ('Hindi',),\n",
       " ('unknown',),\n",
       " ('Hinglish',),\n",
       " ('Konkani',),\n",
       " ('Tamil',),\n",
       " ('Malayalam',),\n",
       " ('Tulu',),\n",
       " ('Gujarati',),\n",
       " ('Punjabi',)]"
      ]
     },
     "execution_count": 11,
     "metadata": {},
     "output_type": "execute_result"
    }
   ],
   "source": [
    "query1 = \"\"\"\n",
    "    UPDATE Students\n",
    "    SET Mother_Tongue = TRIM(Mother_Tongue)\n",
    "\"\"\"\n",
    "query2 = \"\"\"\n",
    "    UPDATE Students\n",
    "    SET Mother_Tongue = 'Telugu'\n",
    "    WHERE Mother_Tongue = 'telugu'\n",
    "\"\"\"\n",
    "query3 = \"\"\"\n",
    "    UPDATE Students\n",
    "    SET Mother_Tongue = 'Kannada'\n",
    "    WHERE Mother_Tongue IN ('KANNADA','ಕನ್ನಡ','Karnataka','kannada')\n",
    "\"\"\"\n",
    "query4 = \"\"\"\n",
    "    UPDATE Students\n",
    "    SET Mother_Tongue = 'Marathi'\n",
    "    WHERE Mother_Tongue = 'MARATHI'\n",
    "\"\"\"\n",
    "query5 = \"\"\"\n",
    "    UPDATE Students\n",
    "    SET Mother_Tongue = 'Hindi'\n",
    "    WHERE Mother_Tongue = 'hindi'\n",
    "\"\"\"\n",
    "query6 = \"\"\"\n",
    "    UPDATE Students\n",
    "    SET Mother_Tongue = 'Tamil'\n",
    "    WHERE Mother_Tongue = 'tamil'\n",
    "\"\"\"\n",
    "query7 = \"\"\"\n",
    "    UPDATE Students\n",
    "    SET Mother_Tongue = 'unknown'\n",
    "    WHERE Mother_Tongue IN ('unknown', '-', 'Nil', 'None')\n",
    "\"\"\"\n",
    "query8 = \"\"\"\n",
    "    UPDATE Students\n",
    "    SET Mother_Tongue = 'unknown'\n",
    "    WHERE Mother_Tongue IS NULL;\n",
    "\"\"\"\n",
    "\n",
    "con.execute(query1)\n",
    "con.execute(query2)\n",
    "con.execute(query3)\n",
    "con.execute(query4)\n",
    "con.execute(query5)\n",
    "con.execute(query6)\n",
    "con.execute(query7)\n",
    "con.execute(query8)\n",
    "con.commit()\n",
    "con.execute(\"SELECT DISTINCT Mother_Tongue FROM Students\").fetchall()\n"
   ]
  },
  {
   "cell_type": "markdown",
   "id": "a8070b38-aae3-4973-bbde-93a567b6e670",
   "metadata": {},
   "source": [
    "2. Create look-up tables (aka master tables) for states, towns, and languages.    \n",
    "Insert data.     \n",
    "See [RTO Codes](https://www.v3cars.com/car-guide/state-code-regional-transport-office-rto-india) and \n",
    "Census Codes for [States and Cities](https://censusindia.gov.in/nada/index.php/catalog/42648) and \n",
    "[Language Codes](https://censusindia.gov.in/nada/index.php/catalog/42561)  \n",
    "Use standard codes or abbreviations as PK.  \n",
    "\n"
   ]
  },
  {
   "cell_type": "code",
   "execution_count": 12,
   "id": "d42566fa",
   "metadata": {},
   "outputs": [
    {
     "data": {
      "text/plain": [
       "<sqlite3.Cursor at 0x12703d3c0>"
      ]
     },
     "execution_count": 12,
     "metadata": {},
     "output_type": "execute_result"
    }
   ],
   "source": [
    "con.execute(\"CREATE TABLE Master_Lang(Language TEXT PK, Code TEXT)\")\n",
    "con.execute(\"CREATE TABLE Master_State(State TEXT PK, Code TEXT)\")\n",
    "con.execute(\"CREATE TABLE Master_City(City TEXT PK, State_code TEXT, District_code TEXT)\")\n",
    "con.execute(\"CREATE TABLE Master_Elective(ID TEXT PK, Elective TEXT)\")\n",
    "con.execute(\"CREATE TABLE Master_Club(ID TEXT PK, Club TEXT)\")"
   ]
  },
  {
   "cell_type": "code",
   "execution_count": 13,
   "id": "682cd201",
   "metadata": {},
   "outputs": [
    {
     "data": {
      "text/plain": [
       "<sqlite3.Cursor at 0x12670bc40>"
      ]
     },
     "execution_count": 13,
     "metadata": {},
     "output_type": "execute_result"
    }
   ],
   "source": [
    "rows1 = [('Karnataka','KA'),\n",
    " ('Jammu','JK'),\n",
    " ('Haryana','HR'),\n",
    " ('Delhi','DL'),\n",
    " ('West Bengal','WB'),\n",
    " ('Andhra Pradesh','AP'),\n",
    " ('Telangana','TS'),\n",
    " ('Punjab','PB'),\n",
    " ('Goa','GA'),\n",
    " ('Uttar Pradesh','UP'),\n",
    " ('Rajasthan','RJ'),\n",
    " ('Tamil Nadu','TN'),\n",
    " ('Bihar','BR'),\n",
    " ('Unknown','Unknown'),\n",
    " ('Gujarat','GJ'),\n",
    " ('Jharkhand','JH')]\n",
    "\n",
    "con.executemany(\"INSERT INTO Master_State(State,Code) VALUES(?,?)\",rows1)"
   ]
  },
  {
   "cell_type": "code",
   "execution_count": 14,
   "id": "40fb105b",
   "metadata": {},
   "outputs": [
    {
     "data": {
      "text/plain": [
       "<sqlite3.Cursor at 0x12670afc0>"
      ]
     },
     "execution_count": 14,
     "metadata": {},
     "output_type": "execute_result"
    }
   ],
   "source": [
    "rows2 = [('Mysuru',577, 5572),\n",
    " ('Bengaluru',572,000),\n",
    " ('Bidar',574,5558),\n",
    " ('Bathindi',0,0),\n",
    " ('Ballari',572,54432),\n",
    " ('Raichur',559,000),\n",
    " ('Hubballi',562,5475),\n",
    " ('Mandya',573,550),\n",
    " ('Chitradurga',566,000),\n",
    " ('Kalaburgi',677,2322),\n",
    " ('Maahishmati',720,13455),\n",
    " ('Hosapete',554,23111),\n",
    " ('New Delhi',1,000),\n",
    " ('Dharwad',563,65443),\n",
    " ('Kolkata',456,12364),\n",
    " ('Tirupati',245,13453),\n",
    " ('Chikkamagaluru',533,4546),\n",
    " ('Shivamogga',523,12253),\n",
    " ('Hyderabad',252,6553),\n",
    " ('Adoni',765,3312),\n",
    " ('Nagoor',332,75234),\n",
    " ('Amritsar',124,32345),\n",
    " ('Goa',597,6536),\n",
    " ('Bidadi',553,13443),\n",
    " ('Saharanpur',311,564),\n",
    " ('Abu Road',00,00),\n",
    " ('Chennai',653,13354),\n",
    " ('Haveri',524,43543),\n",
    " ('Yadgir',592,93489),\n",
    " ('Tumkur',642,45211),\n",
    " ('Dharbanga',674,7653),\n",
    " ('Davengere',906,46222),\n",
    " ('None',00,00),\n",
    " ('Lucknow',567,13534),\n",
    " ('Chikkaballapur',876,56533),\n",
    " ('Gangavathi',977,3132),\n",
    " ('Vijayapuraa',564,1329),\n",
    " ('Ahmedabad',1333,6756),\n",
    " ('Chittoor',233,5676),\n",
    " ('Mudigere',133,65655),\n",
    " ('Kolar',454,43544),\n",
    " ('Gajendragad',565,2323),\n",
    " ('Jamshedpur',565,7654),\n",
    " ('Belagavi',554,5643),\n",
    " ('Hassan',243,56765),\n",
    " ('Mangalore',231,56754),\n",
    " ('Magadi',654,24353),\n",
    " ('Ananthapur',657,2345),\n",
    " ('Vijayapura',765,52324),\n",
    " ('Jaipur',675,23475)]\n",
    "\n",
    "con.executemany(\"INSERT INTO Master_City(city,State_Code,District_code) VALUES(?,?,?)\",rows2)"
   ]
  },
  {
   "cell_type": "code",
   "execution_count": 15,
   "id": "ccb8a011",
   "metadata": {},
   "outputs": [
    {
     "data": {
      "text/plain": [
       "<sqlite3.Cursor at 0x126709dc0>"
      ]
     },
     "execution_count": 15,
     "metadata": {},
     "output_type": "execute_result"
    }
   ],
   "source": [
    "rows3 = [('Telugu','te'),\n",
    " ('English','en'),\n",
    " ('Marathi','mr'),\n",
    " ('Urdu','ur'),\n",
    " ('Kannada','kn'),\n",
    " ('Hindi','hi'),\n",
    " ('Hinglish','he'),\n",
    " ('Konkani','kok'),\n",
    " ('Tamil','ta'),\n",
    " ('Malayalam','ml'),\n",
    " ('Tulu','tl'),\n",
    " ('Gujarati','gu'),\n",
    " ('Punjabi','pa')]\n",
    "\n",
    "con.executemany(\"INSERT INTO Master_Lang(Language, Code) VALUES(?,?)\",rows3)"
   ]
  },
  {
   "cell_type": "code",
   "execution_count": 16,
   "id": "2300219d",
   "metadata": {},
   "outputs": [],
   "source": [
    "query = \"\"\"\n",
    "  UPDATE Students\n",
    "     SET Home_State = Master_State.code\n",
    "     FROM Master_State\n",
    "        WHERE Master_State.State = Students.Home_State\n",
    "\"\"\"\n",
    "con.execute(query)\n",
    "con.commit()"
   ]
  },
  {
   "cell_type": "code",
   "execution_count": 17,
   "id": "0a62fb55",
   "metadata": {},
   "outputs": [
    {
     "data": {
      "text/plain": [
       "<sqlite3.Cursor at 0x12670a2c0>"
      ]
     },
     "execution_count": 17,
     "metadata": {},
     "output_type": "execute_result"
    }
   ],
   "source": [
    "sql = \"\"\"\n",
    "    ALTER TABLE Students\n",
    "    RENAME COLUMN Home_State TO state_id;\n",
    "\"\"\"\n",
    "con.execute(sql)"
   ]
  },
  {
   "cell_type": "code",
   "execution_count": 18,
   "id": "2e0d6e6f",
   "metadata": {},
   "outputs": [
    {
     "data": {
      "text/html": [
       "<div>\n",
       "<style scoped>\n",
       "    .dataframe tbody tr th:only-of-type {\n",
       "        vertical-align: middle;\n",
       "    }\n",
       "\n",
       "    .dataframe tbody tr th {\n",
       "        vertical-align: top;\n",
       "    }\n",
       "\n",
       "    .dataframe thead th {\n",
       "        text-align: right;\n",
       "    }\n",
       "</style>\n",
       "<table border=\"1\" class=\"dataframe\">\n",
       "  <thead>\n",
       "    <tr style=\"text-align: right;\">\n",
       "      <th></th>\n",
       "      <th>Name</th>\n",
       "      <th>Section</th>\n",
       "      <th>state_id</th>\n",
       "    </tr>\n",
       "  </thead>\n",
       "  <tbody>\n",
       "    <tr>\n",
       "      <th>0</th>\n",
       "      <td>SHREE VYSHNAVI A</td>\n",
       "      <td>B</td>\n",
       "      <td>KA</td>\n",
       "    </tr>\n",
       "    <tr>\n",
       "      <th>1</th>\n",
       "      <td>AARON ARTHUR ELISHA</td>\n",
       "      <td>A</td>\n",
       "      <td>unknown</td>\n",
       "    </tr>\n",
       "    <tr>\n",
       "      <th>2</th>\n",
       "      <td>ABHISHEK</td>\n",
       "      <td>A</td>\n",
       "      <td>KA</td>\n",
       "    </tr>\n",
       "    <tr>\n",
       "      <th>3</th>\n",
       "      <td>ABRAR HUSSAIN</td>\n",
       "      <td>B</td>\n",
       "      <td>JK</td>\n",
       "    </tr>\n",
       "    <tr>\n",
       "      <th>4</th>\n",
       "      <td>ADITI A</td>\n",
       "      <td>B</td>\n",
       "      <td>KA</td>\n",
       "    </tr>\n",
       "    <tr>\n",
       "      <th>...</th>\n",
       "      <td>...</td>\n",
       "      <td>...</td>\n",
       "      <td>...</td>\n",
       "    </tr>\n",
       "    <tr>\n",
       "      <th>187</th>\n",
       "      <td>VIBHU POTTEKULA</td>\n",
       "      <td>C</td>\n",
       "      <td>KA</td>\n",
       "    </tr>\n",
       "    <tr>\n",
       "      <th>188</th>\n",
       "      <td>VIJAY SHARMITH</td>\n",
       "      <td>B</td>\n",
       "      <td>KA</td>\n",
       "    </tr>\n",
       "    <tr>\n",
       "      <th>189</th>\n",
       "      <td>VIKASH KASHYAP</td>\n",
       "      <td>A</td>\n",
       "      <td>KA</td>\n",
       "    </tr>\n",
       "    <tr>\n",
       "      <th>190</th>\n",
       "      <td>VISMITHA PRIYANKA</td>\n",
       "      <td>A</td>\n",
       "      <td>KA</td>\n",
       "    </tr>\n",
       "    <tr>\n",
       "      <th>191</th>\n",
       "      <td>YASHWANTH BU</td>\n",
       "      <td>A</td>\n",
       "      <td>KA</td>\n",
       "    </tr>\n",
       "  </tbody>\n",
       "</table>\n",
       "<p>192 rows × 3 columns</p>\n",
       "</div>"
      ],
      "text/plain": [
       "                    Name Section state_id\n",
       "0       SHREE VYSHNAVI A       B       KA\n",
       "1    AARON ARTHUR ELISHA       A  unknown\n",
       "2               ABHISHEK       A       KA\n",
       "3          ABRAR HUSSAIN       B       JK\n",
       "4                ADITI A       B       KA\n",
       "..                   ...     ...      ...\n",
       "187      VIBHU POTTEKULA       C       KA\n",
       "188       VIJAY SHARMITH       B       KA\n",
       "189       VIKASH KASHYAP       A       KA\n",
       "190    VISMITHA PRIYANKA       A       KA\n",
       "191         YASHWANTH BU       A       KA\n",
       "\n",
       "[192 rows x 3 columns]"
      ]
     },
     "execution_count": 18,
     "metadata": {},
     "output_type": "execute_result"
    }
   ],
   "source": [
    "pd.read_sql(\"SELECT Name,Section,state_id FROM Students\", con)"
   ]
  },
  {
   "cell_type": "code",
   "execution_count": 20,
   "id": "5ca27c32",
   "metadata": {},
   "outputs": [],
   "source": [
    "query = \"\"\"\n",
    "  UPDATE Students\n",
    "     SET Mother_Tongue = Master_Lang.code\n",
    "     FROM Master_Lang\n",
    "        WHERE Master_Lang.Language = Students.Mother_Tongue\n",
    "\"\"\"\n",
    "con.execute(query)\n",
    "con.commit()"
   ]
  },
  {
   "cell_type": "code",
   "execution_count": 21,
   "id": "d282548d",
   "metadata": {},
   "outputs": [
    {
     "data": {
      "text/plain": [
       "<sqlite3.Cursor at 0x13434cdc0>"
      ]
     },
     "execution_count": 21,
     "metadata": {},
     "output_type": "execute_result"
    }
   ],
   "source": [
    "sql = \"\"\"\n",
    "    ALTER TABLE Students\n",
    "    RENAME COLUMN Mother_Tongue TO Language_id;\n",
    "\"\"\"\n",
    "con.execute(sql)"
   ]
  },
  {
   "cell_type": "code",
   "execution_count": 22,
   "id": "1841abab",
   "metadata": {},
   "outputs": [
    {
     "data": {
      "text/html": [
       "<div>\n",
       "<style scoped>\n",
       "    .dataframe tbody tr th:only-of-type {\n",
       "        vertical-align: middle;\n",
       "    }\n",
       "\n",
       "    .dataframe tbody tr th {\n",
       "        vertical-align: top;\n",
       "    }\n",
       "\n",
       "    .dataframe thead th {\n",
       "        text-align: right;\n",
       "    }\n",
       "</style>\n",
       "<table border=\"1\" class=\"dataframe\">\n",
       "  <thead>\n",
       "    <tr style=\"text-align: right;\">\n",
       "      <th></th>\n",
       "      <th>Name</th>\n",
       "      <th>Section</th>\n",
       "      <th>Language_id</th>\n",
       "    </tr>\n",
       "  </thead>\n",
       "  <tbody>\n",
       "    <tr>\n",
       "      <th>0</th>\n",
       "      <td>SHREE VYSHNAVI A</td>\n",
       "      <td>B</td>\n",
       "      <td>te</td>\n",
       "    </tr>\n",
       "    <tr>\n",
       "      <th>1</th>\n",
       "      <td>AARON ARTHUR ELISHA</td>\n",
       "      <td>A</td>\n",
       "      <td>en</td>\n",
       "    </tr>\n",
       "    <tr>\n",
       "      <th>2</th>\n",
       "      <td>ABHISHEK</td>\n",
       "      <td>A</td>\n",
       "      <td>mr</td>\n",
       "    </tr>\n",
       "    <tr>\n",
       "      <th>3</th>\n",
       "      <td>ABRAR HUSSAIN</td>\n",
       "      <td>B</td>\n",
       "      <td>ur</td>\n",
       "    </tr>\n",
       "    <tr>\n",
       "      <th>4</th>\n",
       "      <td>ADITI A</td>\n",
       "      <td>B</td>\n",
       "      <td>kn</td>\n",
       "    </tr>\n",
       "    <tr>\n",
       "      <th>...</th>\n",
       "      <td>...</td>\n",
       "      <td>...</td>\n",
       "      <td>...</td>\n",
       "    </tr>\n",
       "    <tr>\n",
       "      <th>187</th>\n",
       "      <td>VIBHU POTTEKULA</td>\n",
       "      <td>C</td>\n",
       "      <td>kn</td>\n",
       "    </tr>\n",
       "    <tr>\n",
       "      <th>188</th>\n",
       "      <td>VIJAY SHARMITH</td>\n",
       "      <td>B</td>\n",
       "      <td>ta</td>\n",
       "    </tr>\n",
       "    <tr>\n",
       "      <th>189</th>\n",
       "      <td>VIKASH KASHYAP</td>\n",
       "      <td>A</td>\n",
       "      <td>kn</td>\n",
       "    </tr>\n",
       "    <tr>\n",
       "      <th>190</th>\n",
       "      <td>VISMITHA PRIYANKA</td>\n",
       "      <td>A</td>\n",
       "      <td>kn</td>\n",
       "    </tr>\n",
       "    <tr>\n",
       "      <th>191</th>\n",
       "      <td>YASHWANTH BU</td>\n",
       "      <td>A</td>\n",
       "      <td>kn</td>\n",
       "    </tr>\n",
       "  </tbody>\n",
       "</table>\n",
       "<p>192 rows × 3 columns</p>\n",
       "</div>"
      ],
      "text/plain": [
       "                    Name Section Language_id\n",
       "0       SHREE VYSHNAVI A       B          te\n",
       "1    AARON ARTHUR ELISHA       A          en\n",
       "2               ABHISHEK       A          mr\n",
       "3          ABRAR HUSSAIN       B          ur\n",
       "4                ADITI A       B          kn\n",
       "..                   ...     ...         ...\n",
       "187      VIBHU POTTEKULA       C          kn\n",
       "188       VIJAY SHARMITH       B          ta\n",
       "189       VIKASH KASHYAP       A          kn\n",
       "190    VISMITHA PRIYANKA       A          kn\n",
       "191         YASHWANTH BU       A          kn\n",
       "\n",
       "[192 rows x 3 columns]"
      ]
     },
     "execution_count": 22,
     "metadata": {},
     "output_type": "execute_result"
    }
   ],
   "source": [
    "pd.read_sql(\"SELECT Name,Section,Language_id FROM Students\", con)"
   ]
  },
  {
   "cell_type": "markdown",
   "id": "48411946-7138-4b9c-b875-d6c3b37335ea",
   "metadata": {},
   "source": [
    "3. Create tables for electives and clubs.  \n",
    "    Their PK may be auto-incremented.  \n",
    "    Insert data.  "
   ]
  },
  {
   "cell_type": "code",
   "execution_count": 23,
   "id": "69855fd0-c556-48e0-9bbc-76228eb4d03c",
   "metadata": {},
   "outputs": [
    {
     "data": {
      "text/plain": [
       "<sqlite3.Cursor at 0x13434cfc0>"
      ]
     },
     "execution_count": 23,
     "metadata": {},
     "output_type": "execute_result"
    }
   ],
   "source": [
    "query = \"\"\"\n",
    "    UPDATE Students\n",
    "    SET elective = TRIM(elective)\n",
    "\"\"\"\n",
    "con.execute(query)"
   ]
  },
  {
   "cell_type": "code",
   "execution_count": 24,
   "id": "c7758063",
   "metadata": {},
   "outputs": [
    {
     "data": {
      "text/plain": [
       "[('Photography',),\n",
       " ('Community service',),\n",
       " ('Drumming',),\n",
       " ('Indian Knowledge System: Mathematica and Ayurveda',),\n",
       " ('Success, Happiness and Leadership',),\n",
       " ('Hindusthani Vocals',),\n",
       " ('Contemporary dance',),\n",
       " (None,),\n",
       " ('Contemporary ance',),\n",
       " ('Contemporary Dance',),\n",
       " ('contemporary dance',),\n",
       " ('Mixed martial arts',),\n",
       " ('Success,Happiness,Leadership and Lifeskills',),\n",
       " ('Community Service',),\n",
       " ('photography',),\n",
       " ('Success, Hapiness and Leadership',),\n",
       " ('Quantitative Reasoning',),\n",
       " ('Quantitative reasoning',),\n",
       " ('Indian Knowledge systems - Ayurveda and Mathematics',),\n",
       " ('Quantity Reasoning',),\n",
       " ('success, happiness and leadership and life skills',),\n",
       " ('Hindustani Vocals',),\n",
       " ('Success,Happiness,Leadership and  life skills',),\n",
       " ('Hindustani vocals',),\n",
       " ('Null',),\n",
       " ('success, happiness and leadership',),\n",
       " ('success,happiness,leadership and life skills',),\n",
       " ('community servive',),\n",
       " ('drumming',),\n",
       " ('Kuchipudi',),\n",
       " ('community service',),\n",
       " ('Success, happiness,leadership and life skills',),\n",
       " ('Hindustani Music',),\n",
       " ('Indian Knowledge system Mathematics&Ayurveda',),\n",
       " ('deciding',),\n",
       " ('Success, leadership and lifeskill',),\n",
       " ('-',),\n",
       " ('Success,Leadership and Lifeskill',),\n",
       " ('PHOTOGRAPHY',),\n",
       " ('kuchipudi',),\n",
       " ('quantitative reasoning',)]"
      ]
     },
     "execution_count": 24,
     "metadata": {},
     "output_type": "execute_result"
    }
   ],
   "source": [
    "con.execute(\"SELECT DISTINCT elective FROM Students\").fetchall()"
   ]
  },
  {
   "cell_type": "code",
   "execution_count": 25,
   "id": "c277b0af",
   "metadata": {},
   "outputs": [],
   "source": [
    "ele = [(1,'Photography '),\n",
    " (2,'Community service '),(3,'Drumming'),(4,'Indian Knowledge System: Mathematica and Ayurveda'),\n",
    " (5,'Success, Happiness and Leadership'),\n",
    " (6,'Hindusthani Vocals'),\n",
    " (7,'Contemporary dance '),(8,'Mixed martial arts'),(9,'Kuchipudi'),]"
   ]
  },
  {
   "cell_type": "code",
   "execution_count": 26,
   "id": "2ae3aa8b",
   "metadata": {},
   "outputs": [
    {
     "data": {
      "text/plain": [
       "<sqlite3.Cursor at 0x13434dd40>"
      ]
     },
     "execution_count": 26,
     "metadata": {},
     "output_type": "execute_result"
    }
   ],
   "source": [
    "con.executemany(\"INSERT INTO Master_Elective(ID, Elective) VALUES(?,?)\",ele)"
   ]
  },
  {
   "cell_type": "code",
   "execution_count": 27,
   "id": "33cfab4b",
   "metadata": {},
   "outputs": [
    {
     "data": {
      "text/html": [
       "<div>\n",
       "<style scoped>\n",
       "    .dataframe tbody tr th:only-of-type {\n",
       "        vertical-align: middle;\n",
       "    }\n",
       "\n",
       "    .dataframe tbody tr th {\n",
       "        vertical-align: top;\n",
       "    }\n",
       "\n",
       "    .dataframe thead th {\n",
       "        text-align: right;\n",
       "    }\n",
       "</style>\n",
       "<table border=\"1\" class=\"dataframe\">\n",
       "  <thead>\n",
       "    <tr style=\"text-align: right;\">\n",
       "      <th></th>\n",
       "      <th>ID</th>\n",
       "      <th>Elective</th>\n",
       "    </tr>\n",
       "  </thead>\n",
       "  <tbody>\n",
       "    <tr>\n",
       "      <th>0</th>\n",
       "      <td>1</td>\n",
       "      <td>Photography</td>\n",
       "    </tr>\n",
       "    <tr>\n",
       "      <th>1</th>\n",
       "      <td>2</td>\n",
       "      <td>Community service</td>\n",
       "    </tr>\n",
       "    <tr>\n",
       "      <th>2</th>\n",
       "      <td>3</td>\n",
       "      <td>Drumming</td>\n",
       "    </tr>\n",
       "    <tr>\n",
       "      <th>3</th>\n",
       "      <td>4</td>\n",
       "      <td>Indian Knowledge System: Mathematica and Ayurveda</td>\n",
       "    </tr>\n",
       "    <tr>\n",
       "      <th>4</th>\n",
       "      <td>5</td>\n",
       "      <td>Success, Happiness and Leadership</td>\n",
       "    </tr>\n",
       "    <tr>\n",
       "      <th>5</th>\n",
       "      <td>6</td>\n",
       "      <td>Hindusthani Vocals</td>\n",
       "    </tr>\n",
       "    <tr>\n",
       "      <th>6</th>\n",
       "      <td>7</td>\n",
       "      <td>Contemporary dance</td>\n",
       "    </tr>\n",
       "    <tr>\n",
       "      <th>7</th>\n",
       "      <td>8</td>\n",
       "      <td>Mixed martial arts</td>\n",
       "    </tr>\n",
       "    <tr>\n",
       "      <th>8</th>\n",
       "      <td>9</td>\n",
       "      <td>Kuchipudi</td>\n",
       "    </tr>\n",
       "  </tbody>\n",
       "</table>\n",
       "</div>"
      ],
      "text/plain": [
       "  ID                                           Elective\n",
       "0  1                                       Photography \n",
       "1  2                                 Community service \n",
       "2  3                                           Drumming\n",
       "3  4  Indian Knowledge System: Mathematica and Ayurveda\n",
       "4  5                  Success, Happiness and Leadership\n",
       "5  6                                 Hindusthani Vocals\n",
       "6  7                                Contemporary dance \n",
       "7  8                                 Mixed martial arts\n",
       "8  9                                          Kuchipudi"
      ]
     },
     "execution_count": 27,
     "metadata": {},
     "output_type": "execute_result"
    }
   ],
   "source": [
    "pd.read_sql(\"SELECT * FROM Master_Elective\",con)"
   ]
  },
  {
   "cell_type": "code",
   "execution_count": 28,
   "id": "086cb67c",
   "metadata": {},
   "outputs": [],
   "source": [
    "club = [(1,'cybersecurity'), (2,'Neural Nexus') ,(3,'Viksha'),(4,'callisto astronomy club'),(5,'ಶ್ರೀಗಂಧ'),(6,'Possessor Architecture'),(7,'carvaccess(rvce)'),(8,'E-cell'),(9,'expressions'), (10,'Raag'), (11,'generative AI'),(12,'Q-Pulse',),\n",
    " (13,'Rowlings Elf',),(14,'Socials'),(15,'AMEYA'),(16,'Debsoc'),(17,'Happy tails')]"
   ]
  },
  {
   "cell_type": "code",
   "execution_count": 29,
   "id": "62ffaf32",
   "metadata": {},
   "outputs": [
    {
     "data": {
      "text/plain": [
       "<sqlite3.Cursor at 0x13434e9c0>"
      ]
     },
     "execution_count": 29,
     "metadata": {},
     "output_type": "execute_result"
    }
   ],
   "source": [
    "con.executemany(\"INSERT INTO Master_Club(ID, Club) VALUES(?,?)\",club)"
   ]
  },
  {
   "cell_type": "code",
   "execution_count": 30,
   "id": "473f1d65",
   "metadata": {},
   "outputs": [
    {
     "data": {
      "text/html": [
       "<div>\n",
       "<style scoped>\n",
       "    .dataframe tbody tr th:only-of-type {\n",
       "        vertical-align: middle;\n",
       "    }\n",
       "\n",
       "    .dataframe tbody tr th {\n",
       "        vertical-align: top;\n",
       "    }\n",
       "\n",
       "    .dataframe thead th {\n",
       "        text-align: right;\n",
       "    }\n",
       "</style>\n",
       "<table border=\"1\" class=\"dataframe\">\n",
       "  <thead>\n",
       "    <tr style=\"text-align: right;\">\n",
       "      <th></th>\n",
       "      <th>ID</th>\n",
       "      <th>Club</th>\n",
       "    </tr>\n",
       "  </thead>\n",
       "  <tbody>\n",
       "    <tr>\n",
       "      <th>0</th>\n",
       "      <td>1</td>\n",
       "      <td>cybersecurity</td>\n",
       "    </tr>\n",
       "    <tr>\n",
       "      <th>1</th>\n",
       "      <td>2</td>\n",
       "      <td>Neural Nexus</td>\n",
       "    </tr>\n",
       "    <tr>\n",
       "      <th>2</th>\n",
       "      <td>3</td>\n",
       "      <td>Viksha</td>\n",
       "    </tr>\n",
       "    <tr>\n",
       "      <th>3</th>\n",
       "      <td>4</td>\n",
       "      <td>callisto astronomy club</td>\n",
       "    </tr>\n",
       "    <tr>\n",
       "      <th>4</th>\n",
       "      <td>5</td>\n",
       "      <td>ಶ್ರೀಗಂಧ</td>\n",
       "    </tr>\n",
       "    <tr>\n",
       "      <th>5</th>\n",
       "      <td>6</td>\n",
       "      <td>Possessor Architecture</td>\n",
       "    </tr>\n",
       "    <tr>\n",
       "      <th>6</th>\n",
       "      <td>7</td>\n",
       "      <td>carvaccess(rvce)</td>\n",
       "    </tr>\n",
       "    <tr>\n",
       "      <th>7</th>\n",
       "      <td>8</td>\n",
       "      <td>E-cell</td>\n",
       "    </tr>\n",
       "    <tr>\n",
       "      <th>8</th>\n",
       "      <td>9</td>\n",
       "      <td>expressions</td>\n",
       "    </tr>\n",
       "    <tr>\n",
       "      <th>9</th>\n",
       "      <td>10</td>\n",
       "      <td>Raag</td>\n",
       "    </tr>\n",
       "    <tr>\n",
       "      <th>10</th>\n",
       "      <td>11</td>\n",
       "      <td>generative AI</td>\n",
       "    </tr>\n",
       "    <tr>\n",
       "      <th>11</th>\n",
       "      <td>12</td>\n",
       "      <td>Q-Pulse</td>\n",
       "    </tr>\n",
       "    <tr>\n",
       "      <th>12</th>\n",
       "      <td>13</td>\n",
       "      <td>Rowlings Elf</td>\n",
       "    </tr>\n",
       "    <tr>\n",
       "      <th>13</th>\n",
       "      <td>14</td>\n",
       "      <td>Socials</td>\n",
       "    </tr>\n",
       "    <tr>\n",
       "      <th>14</th>\n",
       "      <td>15</td>\n",
       "      <td>AMEYA</td>\n",
       "    </tr>\n",
       "    <tr>\n",
       "      <th>15</th>\n",
       "      <td>16</td>\n",
       "      <td>Debsoc</td>\n",
       "    </tr>\n",
       "    <tr>\n",
       "      <th>16</th>\n",
       "      <td>17</td>\n",
       "      <td>Happy tails</td>\n",
       "    </tr>\n",
       "  </tbody>\n",
       "</table>\n",
       "</div>"
      ],
      "text/plain": [
       "    ID                     Club\n",
       "0    1            cybersecurity\n",
       "1    2             Neural Nexus\n",
       "2    3                   Viksha\n",
       "3    4  callisto astronomy club\n",
       "4    5                  ಶ್ರೀಗಂಧ\n",
       "5    6   Possessor Architecture\n",
       "6    7         carvaccess(rvce)\n",
       "7    8                   E-cell\n",
       "8    9              expressions\n",
       "9   10                     Raag\n",
       "10  11            generative AI\n",
       "11  12                  Q-Pulse\n",
       "12  13             Rowlings Elf\n",
       "13  14                  Socials\n",
       "14  15                    AMEYA\n",
       "15  16                   Debsoc\n",
       "16  17              Happy tails"
      ]
     },
     "execution_count": 30,
     "metadata": {},
     "output_type": "execute_result"
    }
   ],
   "source": [
    "pd.read_sql(\"SELECT * FROM Master_Club\",con)"
   ]
  },
  {
   "cell_type": "code",
   "execution_count": 55,
   "id": "9b343163",
   "metadata": {},
   "outputs": [],
   "source": [
    "con.commit()\n",
    "con.close()"
   ]
  }
 ],
 "metadata": {
  "kernelspec": {
   "display_name": "Python 3 (ipykernel)",
   "language": "python",
   "name": "python3"
  },
  "language_info": {
   "codemirror_mode": {
    "name": "ipython",
    "version": 3
   },
   "file_extension": ".py",
   "mimetype": "text/x-python",
   "name": "python",
   "nbconvert_exporter": "python",
   "pygments_lexer": "ipython3",
   "version": "3.11.3"
  }
 },
 "nbformat": 4,
 "nbformat_minor": 5
}
