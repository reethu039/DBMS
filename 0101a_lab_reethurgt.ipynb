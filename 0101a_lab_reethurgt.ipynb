{
 "cells": [
  {
   "cell_type": "markdown",
   "id": "55e611e0-a627-45e8-a91f-ebc3dbe7bb2b",
   "metadata": {},
   "source": [
    "#### Note   \n",
    "In all cases, use only `con.execute` feature and not dataframes.  "
   ]
  },
  {
   "cell_type": "markdown",
   "id": "4f83143e-d243-4c2a-8462-a040b0276a26",
   "metadata": {},
   "source": [
    "##### Create database   \n",
    "In your folder, create a database named 0101a_lab_\\<your folder name>.sqlite   "
   ]
  },
  {
   "cell_type": "code",
   "execution_count": 16,
   "id": "f82b15d3-ed7a-4fd5-a8b9-630e8646c30a",
   "metadata": {},
   "outputs": [],
   "source": [
    "import pandas as pd\n",
    "import os\n",
    "import sqlite3 as lite\n",
    "from glob import glob\n",
    "\n",
    "dbpath = '0101a_lab_reethurgt.sqlite'\n",
    "con = lite.connect(dbpath)"
   ]
  },
  {
   "cell_type": "markdown",
   "id": "85eadab0-28f4-4b11-961d-8176557428e0",
   "metadata": {},
   "source": [
    "##### Create tables  \n",
    "Create tables referring to the spreadsheets in Assignments folder for columns names   \n",
    "- 'Books' using bookset.xlsx   \n",
    "- 'Users' using userset.xlsx   \n",
    "- 'Ratings' using ratingset.xlsx  "
   ]
  },
  {
   "cell_type": "code",
   "execution_count": 17,
   "id": "1a31a315-f839-4990-a505-5672cdce0ba7",
   "metadata": {},
   "outputs": [
    {
     "data": {
      "text/html": [
       "<div>\n",
       "<style scoped>\n",
       "    .dataframe tbody tr th:only-of-type {\n",
       "        vertical-align: middle;\n",
       "    }\n",
       "\n",
       "    .dataframe tbody tr th {\n",
       "        vertical-align: top;\n",
       "    }\n",
       "\n",
       "    .dataframe thead th {\n",
       "        text-align: right;\n",
       "    }\n",
       "</style>\n",
       "<table border=\"1\" class=\"dataframe\">\n",
       "  <thead>\n",
       "    <tr style=\"text-align: right;\">\n",
       "      <th></th>\n",
       "      <th>ISBN</th>\n",
       "      <th>Book-Title</th>\n",
       "      <th>Book-Author</th>\n",
       "      <th>Year-Of-Publication</th>\n",
       "      <th>Publisher</th>\n",
       "    </tr>\n",
       "  </thead>\n",
       "  <tbody>\n",
       "    <tr>\n",
       "      <th>0</th>\n",
       "      <td>195153448</td>\n",
       "      <td>Classical Mythology</td>\n",
       "      <td>Mark P. O. Morford</td>\n",
       "      <td>2002</td>\n",
       "      <td>Oxford University Press</td>\n",
       "    </tr>\n",
       "    <tr>\n",
       "      <th>1</th>\n",
       "      <td>1841721522</td>\n",
       "      <td>New Vegetarian: Bold and Beautiful Recipes for...</td>\n",
       "      <td>Celia Brooks Brown</td>\n",
       "      <td>2001</td>\n",
       "      <td>Ryland Peters and  Small Ltd</td>\n",
       "    </tr>\n",
       "    <tr>\n",
       "      <th>2</th>\n",
       "      <td>375759778</td>\n",
       "      <td>Prague : A Novel</td>\n",
       "      <td>ARTHUR PHILLIPS</td>\n",
       "      <td>2003</td>\n",
       "      <td>Random House Trade Paperbacks</td>\n",
       "    </tr>\n",
       "    <tr>\n",
       "      <th>3</th>\n",
       "      <td>425163091</td>\n",
       "      <td>Chocolate Jesus</td>\n",
       "      <td>Stephan Jaramillo</td>\n",
       "      <td>1998</td>\n",
       "      <td>Berkley Publishing Group</td>\n",
       "    </tr>\n",
       "  </tbody>\n",
       "</table>\n",
       "</div>"
      ],
      "text/plain": [
       "         ISBN                                         Book-Title  \\\n",
       "0   195153448                                Classical Mythology   \n",
       "1  1841721522  New Vegetarian: Bold and Beautiful Recipes for...   \n",
       "2   375759778                                   Prague : A Novel   \n",
       "3   425163091                                    Chocolate Jesus   \n",
       "\n",
       "          Book-Author  Year-Of-Publication                      Publisher  \n",
       "0  Mark P. O. Morford                 2002        Oxford University Press  \n",
       "1  Celia Brooks Brown                 2001   Ryland Peters and  Small Ltd  \n",
       "2     ARTHUR PHILLIPS                 2003  Random House Trade Paperbacks  \n",
       "3   Stephan Jaramillo                 1998       Berkley Publishing Group  "
      ]
     },
     "execution_count": 17,
     "metadata": {},
     "output_type": "execute_result"
    }
   ],
   "source": [
    "df1 = pd.read_excel(\"/Users/reethu/coding/college/DBMS/Assignments/bookset.xlsx\")\n",
    "df1"
   ]
  },
  {
   "cell_type": "code",
   "execution_count": 18,
   "id": "deb2ed8f",
   "metadata": {},
   "outputs": [
    {
     "data": {
      "text/html": [
       "<div>\n",
       "<style scoped>\n",
       "    .dataframe tbody tr th:only-of-type {\n",
       "        vertical-align: middle;\n",
       "    }\n",
       "\n",
       "    .dataframe tbody tr th {\n",
       "        vertical-align: top;\n",
       "    }\n",
       "\n",
       "    .dataframe thead th {\n",
       "        text-align: right;\n",
       "    }\n",
       "</style>\n",
       "<table border=\"1\" class=\"dataframe\">\n",
       "  <thead>\n",
       "    <tr style=\"text-align: right;\">\n",
       "      <th></th>\n",
       "      <th>User-ID</th>\n",
       "      <th>ISBN</th>\n",
       "      <th>Book-Rating</th>\n",
       "    </tr>\n",
       "  </thead>\n",
       "  <tbody>\n",
       "    <tr>\n",
       "      <th>0</th>\n",
       "      <td>2</td>\n",
       "      <td>195153448</td>\n",
       "      <td>0</td>\n",
       "    </tr>\n",
       "    <tr>\n",
       "      <th>1</th>\n",
       "      <td>10</td>\n",
       "      <td>1841721522</td>\n",
       "      <td>0</td>\n",
       "    </tr>\n",
       "    <tr>\n",
       "      <th>2</th>\n",
       "      <td>10</td>\n",
       "      <td>8477024456</td>\n",
       "      <td>6</td>\n",
       "    </tr>\n",
       "    <tr>\n",
       "      <th>3</th>\n",
       "      <td>19</td>\n",
       "      <td>375759778</td>\n",
       "      <td>7</td>\n",
       "    </tr>\n",
       "    <tr>\n",
       "      <th>4</th>\n",
       "      <td>20</td>\n",
       "      <td>425163091</td>\n",
       "      <td>0</td>\n",
       "    </tr>\n",
       "  </tbody>\n",
       "</table>\n",
       "</div>"
      ],
      "text/plain": [
       "   User-ID        ISBN  Book-Rating\n",
       "0        2   195153448            0\n",
       "1       10  1841721522            0\n",
       "2       10  8477024456            6\n",
       "3       19   375759778            7\n",
       "4       20   425163091            0"
      ]
     },
     "execution_count": 18,
     "metadata": {},
     "output_type": "execute_result"
    }
   ],
   "source": [
    "df2= pd.read_excel(\"/Users/reethu/coding/college/DBMS/Assignments/ratingset.xlsx\")\n",
    "df2"
   ]
  },
  {
   "cell_type": "code",
   "execution_count": 19,
   "id": "5babcfa3",
   "metadata": {},
   "outputs": [
    {
     "data": {
      "text/html": [
       "<div>\n",
       "<style scoped>\n",
       "    .dataframe tbody tr th:only-of-type {\n",
       "        vertical-align: middle;\n",
       "    }\n",
       "\n",
       "    .dataframe tbody tr th {\n",
       "        vertical-align: top;\n",
       "    }\n",
       "\n",
       "    .dataframe thead th {\n",
       "        text-align: right;\n",
       "    }\n",
       "</style>\n",
       "<table border=\"1\" class=\"dataframe\">\n",
       "  <thead>\n",
       "    <tr style=\"text-align: right;\">\n",
       "      <th></th>\n",
       "      <th>User-ID</th>\n",
       "      <th>Location</th>\n",
       "      <th>Age</th>\n",
       "    </tr>\n",
       "  </thead>\n",
       "  <tbody>\n",
       "    <tr>\n",
       "      <th>0</th>\n",
       "      <td>2</td>\n",
       "      <td>stockton, california, usa</td>\n",
       "      <td>18</td>\n",
       "    </tr>\n",
       "    <tr>\n",
       "      <th>1</th>\n",
       "      <td>4</td>\n",
       "      <td>porto, v.n.gaia, portugal</td>\n",
       "      <td>17</td>\n",
       "    </tr>\n",
       "    <tr>\n",
       "      <th>2</th>\n",
       "      <td>6</td>\n",
       "      <td>santa monica, california, usa</td>\n",
       "      <td>61</td>\n",
       "    </tr>\n",
       "    <tr>\n",
       "      <th>3</th>\n",
       "      <td>10</td>\n",
       "      <td>albacete, wisconsin, spain</td>\n",
       "      <td>26</td>\n",
       "    </tr>\n",
       "    <tr>\n",
       "      <th>4</th>\n",
       "      <td>11</td>\n",
       "      <td>melbourne, victoria, australia</td>\n",
       "      <td>14</td>\n",
       "    </tr>\n",
       "    <tr>\n",
       "      <th>5</th>\n",
       "      <td>13</td>\n",
       "      <td>barcelona, barcelona, spain</td>\n",
       "      <td>26</td>\n",
       "    </tr>\n",
       "    <tr>\n",
       "      <th>6</th>\n",
       "      <td>18</td>\n",
       "      <td>rio de janeiro, rio de janeiro, brazil</td>\n",
       "      <td>25</td>\n",
       "    </tr>\n",
       "    <tr>\n",
       "      <th>7</th>\n",
       "      <td>19</td>\n",
       "      <td>weston, ,</td>\n",
       "      <td>14</td>\n",
       "    </tr>\n",
       "    <tr>\n",
       "      <th>8</th>\n",
       "      <td>20</td>\n",
       "      <td>langhorne, pennsylvania, usa</td>\n",
       "      <td>19</td>\n",
       "    </tr>\n",
       "  </tbody>\n",
       "</table>\n",
       "</div>"
      ],
      "text/plain": [
       "   User-ID                                Location  Age\n",
       "0        2               stockton, california, usa   18\n",
       "1        4               porto, v.n.gaia, portugal   17\n",
       "2        6           santa monica, california, usa   61\n",
       "3       10              albacete, wisconsin, spain   26\n",
       "4       11          melbourne, victoria, australia   14\n",
       "5       13             barcelona, barcelona, spain   26\n",
       "6       18  rio de janeiro, rio de janeiro, brazil   25\n",
       "7       19                               weston, ,   14\n",
       "8       20            langhorne, pennsylvania, usa   19"
      ]
     },
     "execution_count": 19,
     "metadata": {},
     "output_type": "execute_result"
    }
   ],
   "source": [
    "df3=pd.read_excel(\"/Users/reethu/coding/college/DBMS/Assignments/userset.xlsx\")\n",
    "df3"
   ]
  },
  {
   "cell_type": "code",
   "execution_count": 20,
   "id": "4875f115",
   "metadata": {},
   "outputs": [
    {
     "data": {
      "text/plain": [
       "9"
      ]
     },
     "execution_count": 20,
     "metadata": {},
     "output_type": "execute_result"
    }
   ],
   "source": [
    "df1.to_sql('BOOKS', con, index=False)\n",
    "df2.to_sql('RATINGS', con, index=False)\n",
    "df3.to_sql('USERS', con, index=False)"
   ]
  },
  {
   "cell_type": "markdown",
   "id": "bfdf9e66-f9c4-46f1-bc59-58808074f0b9",
   "metadata": {},
   "source": [
    "Verify"
   ]
  },
  {
   "cell_type": "code",
   "execution_count": 21,
   "id": "b97bd92a-3fd8-4ae3-896e-76e2fe83d406",
   "metadata": {},
   "outputs": [
    {
     "data": {
      "text/plain": [
       "[(195153448,\n",
       "  'Classical Mythology',\n",
       "  'Mark P. O. Morford',\n",
       "  2002,\n",
       "  'Oxford University Press'),\n",
       " (1841721522,\n",
       "  'New Vegetarian: Bold and Beautiful Recipes for Every Occasion',\n",
       "  'Celia Brooks Brown',\n",
       "  2001,\n",
       "  'Ryland Peters and  Small Ltd'),\n",
       " (375759778,\n",
       "  'Prague : A Novel',\n",
       "  'ARTHUR PHILLIPS',\n",
       "  2003,\n",
       "  'Random House Trade Paperbacks'),\n",
       " (425163091,\n",
       "  'Chocolate Jesus',\n",
       "  'Stephan Jaramillo',\n",
       "  1998,\n",
       "  'Berkley Publishing Group')]"
      ]
     },
     "execution_count": 21,
     "metadata": {},
     "output_type": "execute_result"
    }
   ],
   "source": [
    "con.execute(\"SELECT * from books\").fetchall()"
   ]
  },
  {
   "cell_type": "code",
   "execution_count": 22,
   "id": "88f426f1",
   "metadata": {},
   "outputs": [
    {
     "data": {
      "text/plain": [
       "[(2, 'stockton, california, usa', 18),\n",
       " (4, 'porto, v.n.gaia, portugal', 17),\n",
       " (6, 'santa monica, california, usa', 61),\n",
       " (10, 'albacete, wisconsin, spain', 26),\n",
       " (11, 'melbourne, victoria, australia', 14),\n",
       " (13, 'barcelona, barcelona, spain', 26),\n",
       " (18, 'rio de janeiro, rio de janeiro, brazil', 25),\n",
       " (19, 'weston, ,', 14),\n",
       " (20, 'langhorne, pennsylvania, usa', 19)]"
      ]
     },
     "execution_count": 22,
     "metadata": {},
     "output_type": "execute_result"
    }
   ],
   "source": [
    "con.execute(\"SELECT * from users\").fetchall()"
   ]
  },
  {
   "cell_type": "code",
   "execution_count": 23,
   "id": "36f51eed",
   "metadata": {},
   "outputs": [
    {
     "data": {
      "text/plain": [
       "[(2, 195153448, 0),\n",
       " (10, 1841721522, 0),\n",
       " (10, 8477024456, 6),\n",
       " (19, 375759778, 7),\n",
       " (20, 425163091, 0)]"
      ]
     },
     "execution_count": 23,
     "metadata": {},
     "output_type": "execute_result"
    }
   ],
   "source": [
    "con.execute(\"SELECT * from ratings\").fetchall()"
   ]
  },
  {
   "cell_type": "markdown",
   "id": "0fe5a479-45be-4913-8006-7464882229fa",
   "metadata": {},
   "source": [
    "##### Insert Data  \n",
    "  \n",
    "1. Insert a row each with con.execute.   \n",
    "\tVerify   \n",
    "2. Delete these rows from the tables.   \n",
    "    Verify   \n",
    "3. Insert all the rows in each of the tables using con.executemany    \n",
    "\tVerify  \n",
    "4. Delete the rows from all the tables. \t   \n",
    "\tVerify    \n",
    "5. Create one text file with script to insert every row\tin the three tables.   \n",
    "6. Using one con.executescript, insert rows into all the three tables    \n",
    "\tVerify  "
   ]
  },
  {
   "cell_type": "markdown",
   "id": "99fb8938",
   "metadata": {},
   "source": [
    "Inserting rows"
   ]
  },
  {
   "cell_type": "code",
   "execution_count": 24,
   "id": "f35c5fb1",
   "metadata": {},
   "outputs": [
    {
     "data": {
      "text/plain": [
       "<sqlite3.Cursor at 0x139af71c0>"
      ]
     },
     "execution_count": 24,
     "metadata": {},
     "output_type": "execute_result"
    }
   ],
   "source": [
    "con.execute(\"INSERT INTO BOOKS VALUES(912347658, 'Pride & Prejudice', 'Mark Anthony', 2023, 'Oxford University Press')\")"
   ]
  },
  {
   "cell_type": "code",
   "execution_count": 25,
   "id": "37a3bfee",
   "metadata": {},
   "outputs": [
    {
     "data": {
      "text/plain": [
       "[(195153448,\n",
       "  'Classical Mythology',\n",
       "  'Mark P. O. Morford',\n",
       "  2002,\n",
       "  'Oxford University Press'),\n",
       " (1841721522,\n",
       "  'New Vegetarian: Bold and Beautiful Recipes for Every Occasion',\n",
       "  'Celia Brooks Brown',\n",
       "  2001,\n",
       "  'Ryland Peters and  Small Ltd'),\n",
       " (375759778,\n",
       "  'Prague : A Novel',\n",
       "  'ARTHUR PHILLIPS',\n",
       "  2003,\n",
       "  'Random House Trade Paperbacks'),\n",
       " (425163091,\n",
       "  'Chocolate Jesus',\n",
       "  'Stephan Jaramillo',\n",
       "  1998,\n",
       "  'Berkley Publishing Group'),\n",
       " (912347658,\n",
       "  'Pride & Prejudice',\n",
       "  'Mark Anthony',\n",
       "  2023,\n",
       "  'Oxford University Press')]"
      ]
     },
     "execution_count": 25,
     "metadata": {},
     "output_type": "execute_result"
    }
   ],
   "source": [
    "con.execute(\"SELECT * from books\").fetchall()"
   ]
  },
  {
   "cell_type": "code",
   "execution_count": 28,
   "id": "ebf49b54",
   "metadata": {},
   "outputs": [
    {
     "data": {
      "text/plain": [
       "<function Connection.commit()>"
      ]
     },
     "execution_count": 28,
     "metadata": {},
     "output_type": "execute_result"
    }
   ],
   "source": [
    "query = \"\"\" INSERT INTO USERS VALUES(?, ?, ?) \"\"\"\n",
    "\n",
    "con.execute(query, (123456, 'Bangalore', 25))\n",
    "con.commit"
   ]
  },
  {
   "cell_type": "code",
   "execution_count": 31,
   "id": "b1bfefd9",
   "metadata": {},
   "outputs": [
    {
     "data": {
      "text/plain": [
       "[(123456, 'Bangalore', 25)]"
      ]
     },
     "execution_count": 31,
     "metadata": {},
     "output_type": "execute_result"
    }
   ],
   "source": [
    "con.execute(\"SELECT * from USERS where Location='Bangalore'\").fetchall()"
   ]
  },
  {
   "cell_type": "code",
   "execution_count": 34,
   "id": "a9c325ad",
   "metadata": {},
   "outputs": [
    {
     "data": {
      "text/plain": [
       "<function Connection.commit()>"
      ]
     },
     "execution_count": 34,
     "metadata": {},
     "output_type": "execute_result"
    }
   ],
   "source": [
    "query = \"\"\" INSERT INTO RATINGS VALUES(15, 977654321, 3) \"\"\"\n",
    "\n",
    "con.execute(query).fetchall()\n",
    "con.commit"
   ]
  },
  {
   "cell_type": "code",
   "execution_count": 37,
   "id": "bcefa25e",
   "metadata": {},
   "outputs": [
    {
     "data": {
      "text/plain": [
       "[(2, 195153448, 0),\n",
       " (10, 1841721522, 0),\n",
       " (10, 8477024456, 6),\n",
       " (19, 375759778, 7),\n",
       " (20, 425163091, 0)]"
      ]
     },
     "execution_count": 37,
     "metadata": {},
     "output_type": "execute_result"
    }
   ],
   "source": [
    "con.execute(\"SELECT * from ratings\").fetchall()"
   ]
  },
  {
   "cell_type": "markdown",
   "id": "3a23b2b5",
   "metadata": {},
   "source": [
    "Delete rows"
   ]
  },
  {
   "cell_type": "code",
   "execution_count": 38,
   "id": "c248997b",
   "metadata": {},
   "outputs": [
    {
     "data": {
      "text/plain": [
       "[(2, 'stockton, california, usa', 18),\n",
       " (4, 'porto, v.n.gaia, portugal', 17),\n",
       " (6, 'santa monica, california, usa', 61),\n",
       " (10, 'albacete, wisconsin, spain', 26),\n",
       " (11, 'melbourne, victoria, australia', 14),\n",
       " (13, 'barcelona, barcelona, spain', 26),\n",
       " (18, 'rio de janeiro, rio de janeiro, brazil', 25),\n",
       " (19, 'weston, ,', 14),\n",
       " (20, 'langhorne, pennsylvania, usa', 19),\n",
       " (123456, 'Bangalore', 25),\n",
       " (12, '987654321', 3),\n",
       " (12, '987654321', 3),\n",
       " (15, '977654321', 3)]"
      ]
     },
     "execution_count": 38,
     "metadata": {},
     "output_type": "execute_result"
    }
   ],
   "source": [
    "con.execute(\"SELECT * from USERS\").fetchall()"
   ]
  },
  {
   "cell_type": "code",
   "execution_count": 42,
   "id": "fc421501",
   "metadata": {},
   "outputs": [
    {
     "data": {
      "text/plain": [
       "<sqlite3.Cursor at 0x139af6040>"
      ]
     },
     "execution_count": 42,
     "metadata": {},
     "output_type": "execute_result"
    }
   ],
   "source": [
    "con.execute(\"DELETE FROM USERS WHERE AGE = 3\")"
   ]
  },
  {
   "cell_type": "code",
   "execution_count": 43,
   "id": "40c07317",
   "metadata": {},
   "outputs": [
    {
     "data": {
      "text/plain": [
       "[(2, 'stockton, california, usa', 18),\n",
       " (4, 'porto, v.n.gaia, portugal', 17),\n",
       " (6, 'santa monica, california, usa', 61),\n",
       " (10, 'albacete, wisconsin, spain', 26),\n",
       " (11, 'melbourne, victoria, australia', 14),\n",
       " (13, 'barcelona, barcelona, spain', 26),\n",
       " (18, 'rio de janeiro, rio de janeiro, brazil', 25),\n",
       " (19, 'weston, ,', 14),\n",
       " (20, 'langhorne, pennsylvania, usa', 19),\n",
       " (123456, 'Bangalore', 25)]"
      ]
     },
     "execution_count": 43,
     "metadata": {},
     "output_type": "execute_result"
    }
   ],
   "source": [
    "con.execute(\"SELECT * from USERS\").fetchall()"
   ]
  },
  {
   "cell_type": "markdown",
   "id": "a46b3bd8",
   "metadata": {},
   "source": [
    "Inserting all rows using con.executemany()"
   ]
  },
  {
   "cell_type": "code",
   "execution_count": null,
   "id": "4401c1f5",
   "metadata": {},
   "outputs": [],
   "source": []
  }
 ],
 "metadata": {
  "kernelspec": {
   "display_name": "Python 3 (ipykernel)",
   "language": "python",
   "name": "python3"
  },
  "language_info": {
   "codemirror_mode": {
    "name": "ipython",
    "version": 3
   },
   "file_extension": ".py",
   "mimetype": "text/x-python",
   "name": "python",
   "nbconvert_exporter": "python",
   "pygments_lexer": "ipython3",
   "version": "3.11.3"
  }
 },
 "nbformat": 4,
 "nbformat_minor": 5
}
